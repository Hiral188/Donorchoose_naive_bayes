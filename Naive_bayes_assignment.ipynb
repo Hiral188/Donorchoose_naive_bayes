{
 "cells": [
  {
   "cell_type": "code",
   "execution_count": 1,
   "metadata": {},
   "outputs": [
    {
     "name": "stderr",
     "output_type": "stream",
     "text": [
      "/Library/Frameworks/Python.framework/Versions/3.7/lib/python3.7/site-packages/statsmodels/tools/_testing.py:19: FutureWarning: pandas.util.testing is deprecated. Use the functions in the public API at pandas.testing instead.\n",
      "  import pandas.util.testing as tm\n"
     ]
    }
   ],
   "source": [
    "import sqlite3\n",
    "import pandas as pd\n",
    "import numpy as np\n",
    "import nltk\n",
    "import string\n",
    "import matplotlib.pyplot as plt\n",
    "import seaborn as sns\n",
    "from sklearn.feature_extraction.text import TfidfTransformer\n",
    "from sklearn.feature_extraction.text import TfidfVectorizer\n",
    "\n",
    "from sklearn.feature_extraction.text import CountVectorizer\n",
    "from sklearn.metrics import confusion_matrix\n",
    "from sklearn import metrics\n",
    "from sklearn.metrics import roc_curve, auc\n",
    "from nltk.stem.porter import PorterStemmer\n",
    "\n",
    "import re\n",
    "# Tutorial about Python regular expressions: https://pymotw.com/2/re/\n",
    "import string\n",
    "from nltk.corpus import stopwords\n",
    "from nltk.stem import PorterStemmer\n",
    "from nltk.stem.wordnet import WordNetLemmatizer\n",
    "\n",
    "from gensim.models import Word2Vec\n",
    "from gensim.models import KeyedVectors\n",
    "import pickle\n",
    "\n",
    "from tqdm import tqdm\n",
    "import os\n",
    "\n"
   ]
  },
  {
   "cell_type": "code",
   "execution_count": 2,
   "metadata": {},
   "outputs": [
    {
     "name": "stdout",
     "output_type": "stream",
     "text": [
      "/Users/hiralparmar/Downloads/Donor_Naive_bAYES\n"
     ]
    }
   ],
   "source": [
    "\n",
    "cd Donor_Naive_bAYES"
   ]
  },
  {
   "cell_type": "code",
   "execution_count": 3,
   "metadata": {},
   "outputs": [],
   "source": [
    "project_data = pd.read_csv('train_data.csv')\n",
    "resource_data = pd.read_csv('resources.csv')"
   ]
  },
  {
   "cell_type": "code",
   "execution_count": 4,
   "metadata": {},
   "outputs": [
    {
     "name": "stdout",
     "output_type": "stream",
     "text": [
      "Number of data points in train data (109248, 17)\n",
      "--------------------------------------------------\n",
      "The attributes of data : ['Unnamed: 0' 'id' 'teacher_id' 'teacher_prefix' 'school_state'\n",
      " 'project_submitted_datetime' 'project_grade_category'\n",
      " 'project_subject_categories' 'project_subject_subcategories'\n",
      " 'project_title' 'project_essay_1' 'project_essay_2' 'project_essay_3'\n",
      " 'project_essay_4' 'project_resource_summary'\n",
      " 'teacher_number_of_previously_posted_projects' 'project_is_approved']\n"
     ]
    }
   ],
   "source": [
    "print(\"Number of data points in train data\", project_data.shape)\n",
    "print('-'*50)\n",
    "print(\"The attributes of data :\", project_data.columns.values)"
   ]
  },
  {
   "cell_type": "code",
   "execution_count": 5,
   "metadata": {},
   "outputs": [
    {
     "name": "stdout",
     "output_type": "stream",
     "text": [
      "Number of data points in train data (1541272, 4)\n",
      "['id' 'description' 'quantity' 'price']\n"
     ]
    },
    {
     "data": {
      "text/html": [
       "<div>\n",
       "<style scoped>\n",
       "    .dataframe tbody tr th:only-of-type {\n",
       "        vertical-align: middle;\n",
       "    }\n",
       "\n",
       "    .dataframe tbody tr th {\n",
       "        vertical-align: top;\n",
       "    }\n",
       "\n",
       "    .dataframe thead th {\n",
       "        text-align: right;\n",
       "    }\n",
       "</style>\n",
       "<table border=\"1\" class=\"dataframe\">\n",
       "  <thead>\n",
       "    <tr style=\"text-align: right;\">\n",
       "      <th></th>\n",
       "      <th>id</th>\n",
       "      <th>description</th>\n",
       "      <th>quantity</th>\n",
       "      <th>price</th>\n",
       "    </tr>\n",
       "  </thead>\n",
       "  <tbody>\n",
       "    <tr>\n",
       "      <th>0</th>\n",
       "      <td>p233245</td>\n",
       "      <td>LC652 - Lakeshore Double-Space Mobile Drying Rack</td>\n",
       "      <td>1</td>\n",
       "      <td>149.00</td>\n",
       "    </tr>\n",
       "    <tr>\n",
       "      <th>1</th>\n",
       "      <td>p069063</td>\n",
       "      <td>Bouncy Bands for Desks (Blue support pipes)</td>\n",
       "      <td>3</td>\n",
       "      <td>14.95</td>\n",
       "    </tr>\n",
       "  </tbody>\n",
       "</table>\n",
       "</div>"
      ],
      "text/plain": [
       "        id                                        description  quantity  \\\n",
       "0  p233245  LC652 - Lakeshore Double-Space Mobile Drying Rack         1   \n",
       "1  p069063        Bouncy Bands for Desks (Blue support pipes)         3   \n",
       "\n",
       "    price  \n",
       "0  149.00  \n",
       "1   14.95  "
      ]
     },
     "execution_count": 5,
     "metadata": {},
     "output_type": "execute_result"
    }
   ],
   "source": [
    "print(\"Number of data points in train data\", resource_data.shape)\n",
    "print(resource_data.columns.values)\n",
    "resource_data.head(2)"
   ]
  },
  {
   "cell_type": "code",
   "execution_count": 6,
   "metadata": {},
   "outputs": [
    {
     "data": {
      "text/html": [
       "<div>\n",
       "<style scoped>\n",
       "    .dataframe tbody tr th:only-of-type {\n",
       "        vertical-align: middle;\n",
       "    }\n",
       "\n",
       "    .dataframe tbody tr th {\n",
       "        vertical-align: top;\n",
       "    }\n",
       "\n",
       "    .dataframe thead th {\n",
       "        text-align: right;\n",
       "    }\n",
       "</style>\n",
       "<table border=\"1\" class=\"dataframe\">\n",
       "  <thead>\n",
       "    <tr style=\"text-align: right;\">\n",
       "      <th></th>\n",
       "      <th>Unnamed: 0</th>\n",
       "      <th>id</th>\n",
       "      <th>teacher_id</th>\n",
       "      <th>teacher_prefix</th>\n",
       "      <th>school_state</th>\n",
       "      <th>project_submitted_datetime</th>\n",
       "      <th>project_grade_category</th>\n",
       "      <th>project_subject_categories</th>\n",
       "      <th>project_subject_subcategories</th>\n",
       "      <th>project_title</th>\n",
       "      <th>project_essay_1</th>\n",
       "      <th>project_essay_2</th>\n",
       "      <th>project_essay_3</th>\n",
       "      <th>project_essay_4</th>\n",
       "      <th>project_resource_summary</th>\n",
       "      <th>teacher_number_of_previously_posted_projects</th>\n",
       "      <th>project_is_approved</th>\n",
       "    </tr>\n",
       "  </thead>\n",
       "  <tbody>\n",
       "    <tr>\n",
       "      <th>0</th>\n",
       "      <td>160221</td>\n",
       "      <td>p253737</td>\n",
       "      <td>c90749f5d961ff158d4b4d1e7dc665fc</td>\n",
       "      <td>Mrs.</td>\n",
       "      <td>IN</td>\n",
       "      <td>2016-12-05 13:43:57</td>\n",
       "      <td>Grades PreK-2</td>\n",
       "      <td>Literacy &amp; Language</td>\n",
       "      <td>ESL, Literacy</td>\n",
       "      <td>Educational Support for English Learners at Home</td>\n",
       "      <td>My students are English learners that are work...</td>\n",
       "      <td>\\\"The limits of your language are the limits o...</td>\n",
       "      <td>NaN</td>\n",
       "      <td>NaN</td>\n",
       "      <td>My students need opportunities to practice beg...</td>\n",
       "      <td>0</td>\n",
       "      <td>0</td>\n",
       "    </tr>\n",
       "    <tr>\n",
       "      <th>1</th>\n",
       "      <td>140945</td>\n",
       "      <td>p258326</td>\n",
       "      <td>897464ce9ddc600bced1151f324dd63a</td>\n",
       "      <td>Mr.</td>\n",
       "      <td>FL</td>\n",
       "      <td>2016-10-25 09:22:10</td>\n",
       "      <td>Grades 6-8</td>\n",
       "      <td>History &amp; Civics, Health &amp; Sports</td>\n",
       "      <td>Civics &amp; Government, Team Sports</td>\n",
       "      <td>Wanted: Projector for Hungry Learners</td>\n",
       "      <td>Our students arrive to our school eager to lea...</td>\n",
       "      <td>The projector we need for our school is very c...</td>\n",
       "      <td>NaN</td>\n",
       "      <td>NaN</td>\n",
       "      <td>My students need a projector to help with view...</td>\n",
       "      <td>7</td>\n",
       "      <td>1</td>\n",
       "    </tr>\n",
       "    <tr>\n",
       "      <th>2</th>\n",
       "      <td>21895</td>\n",
       "      <td>p182444</td>\n",
       "      <td>3465aaf82da834c0582ebd0ef8040ca0</td>\n",
       "      <td>Ms.</td>\n",
       "      <td>AZ</td>\n",
       "      <td>2016-08-31 12:03:56</td>\n",
       "      <td>Grades 6-8</td>\n",
       "      <td>Health &amp; Sports</td>\n",
       "      <td>Health &amp; Wellness, Team Sports</td>\n",
       "      <td>Soccer Equipment for AWESOME Middle School Stu...</td>\n",
       "      <td>\\r\\n\\\"True champions aren't always the ones th...</td>\n",
       "      <td>The students on the campus come to school know...</td>\n",
       "      <td>NaN</td>\n",
       "      <td>NaN</td>\n",
       "      <td>My students need shine guards, athletic socks,...</td>\n",
       "      <td>1</td>\n",
       "      <td>0</td>\n",
       "    </tr>\n",
       "    <tr>\n",
       "      <th>3</th>\n",
       "      <td>45</td>\n",
       "      <td>p246581</td>\n",
       "      <td>f3cb9bffbba169bef1a77b243e620b60</td>\n",
       "      <td>Mrs.</td>\n",
       "      <td>KY</td>\n",
       "      <td>2016-10-06 21:16:17</td>\n",
       "      <td>Grades PreK-2</td>\n",
       "      <td>Literacy &amp; Language, Math &amp; Science</td>\n",
       "      <td>Literacy, Mathematics</td>\n",
       "      <td>Techie Kindergarteners</td>\n",
       "      <td>I work at a unique school filled with both ESL...</td>\n",
       "      <td>My students live in high poverty conditions wi...</td>\n",
       "      <td>NaN</td>\n",
       "      <td>NaN</td>\n",
       "      <td>My students need to engage in Reading and Math...</td>\n",
       "      <td>4</td>\n",
       "      <td>1</td>\n",
       "    </tr>\n",
       "    <tr>\n",
       "      <th>4</th>\n",
       "      <td>172407</td>\n",
       "      <td>p104768</td>\n",
       "      <td>be1f7507a41f8479dc06f047086a39ec</td>\n",
       "      <td>Mrs.</td>\n",
       "      <td>TX</td>\n",
       "      <td>2016-07-11 01:10:09</td>\n",
       "      <td>Grades PreK-2</td>\n",
       "      <td>Math &amp; Science</td>\n",
       "      <td>Mathematics</td>\n",
       "      <td>Interactive Math Tools</td>\n",
       "      <td>Our second grade classroom next year will be m...</td>\n",
       "      <td>For many students, math is a subject that does...</td>\n",
       "      <td>NaN</td>\n",
       "      <td>NaN</td>\n",
       "      <td>My students need hands on practice in mathemat...</td>\n",
       "      <td>1</td>\n",
       "      <td>1</td>\n",
       "    </tr>\n",
       "  </tbody>\n",
       "</table>\n",
       "</div>"
      ],
      "text/plain": [
       "   Unnamed: 0       id                        teacher_id teacher_prefix  \\\n",
       "0      160221  p253737  c90749f5d961ff158d4b4d1e7dc665fc           Mrs.   \n",
       "1      140945  p258326  897464ce9ddc600bced1151f324dd63a            Mr.   \n",
       "2       21895  p182444  3465aaf82da834c0582ebd0ef8040ca0            Ms.   \n",
       "3          45  p246581  f3cb9bffbba169bef1a77b243e620b60           Mrs.   \n",
       "4      172407  p104768  be1f7507a41f8479dc06f047086a39ec           Mrs.   \n",
       "\n",
       "  school_state project_submitted_datetime project_grade_category  \\\n",
       "0           IN        2016-12-05 13:43:57          Grades PreK-2   \n",
       "1           FL        2016-10-25 09:22:10             Grades 6-8   \n",
       "2           AZ        2016-08-31 12:03:56             Grades 6-8   \n",
       "3           KY        2016-10-06 21:16:17          Grades PreK-2   \n",
       "4           TX        2016-07-11 01:10:09          Grades PreK-2   \n",
       "\n",
       "            project_subject_categories     project_subject_subcategories  \\\n",
       "0                  Literacy & Language                     ESL, Literacy   \n",
       "1    History & Civics, Health & Sports  Civics & Government, Team Sports   \n",
       "2                      Health & Sports    Health & Wellness, Team Sports   \n",
       "3  Literacy & Language, Math & Science             Literacy, Mathematics   \n",
       "4                       Math & Science                       Mathematics   \n",
       "\n",
       "                                       project_title  \\\n",
       "0   Educational Support for English Learners at Home   \n",
       "1              Wanted: Projector for Hungry Learners   \n",
       "2  Soccer Equipment for AWESOME Middle School Stu...   \n",
       "3                             Techie Kindergarteners   \n",
       "4                             Interactive Math Tools   \n",
       "\n",
       "                                     project_essay_1  \\\n",
       "0  My students are English learners that are work...   \n",
       "1  Our students arrive to our school eager to lea...   \n",
       "2  \\r\\n\\\"True champions aren't always the ones th...   \n",
       "3  I work at a unique school filled with both ESL...   \n",
       "4  Our second grade classroom next year will be m...   \n",
       "\n",
       "                                     project_essay_2 project_essay_3  \\\n",
       "0  \\\"The limits of your language are the limits o...             NaN   \n",
       "1  The projector we need for our school is very c...             NaN   \n",
       "2  The students on the campus come to school know...             NaN   \n",
       "3  My students live in high poverty conditions wi...             NaN   \n",
       "4  For many students, math is a subject that does...             NaN   \n",
       "\n",
       "  project_essay_4                           project_resource_summary  \\\n",
       "0             NaN  My students need opportunities to practice beg...   \n",
       "1             NaN  My students need a projector to help with view...   \n",
       "2             NaN  My students need shine guards, athletic socks,...   \n",
       "3             NaN  My students need to engage in Reading and Math...   \n",
       "4             NaN  My students need hands on practice in mathemat...   \n",
       "\n",
       "   teacher_number_of_previously_posted_projects  project_is_approved  \n",
       "0                                             0                    0  \n",
       "1                                             7                    1  \n",
       "2                                             1                    0  \n",
       "3                                             4                    1  \n",
       "4                                             1                    1  "
      ]
     },
     "execution_count": 6,
     "metadata": {},
     "output_type": "execute_result"
    }
   ],
   "source": [
    "project_data.head()"
   ]
  },
  {
   "cell_type": "markdown",
   "metadata": {},
   "source": [
    "# Univariate analysis for featureteacher_number_of_previously_posted_projects"
   ]
  },
  {
   "cell_type": "code",
   "execution_count": 7,
   "metadata": {},
   "outputs": [],
   "source": [
    "#stacked bar plots matplotlib: https://matplotlib.org/gallery/lines_bars_and_markers/bar_stacked.html\n",
    "def stack_plot(data, xtick, col2='project_is_approved', col3='total'):\n",
    "    ind = np.arange(data.shape[0])\n",
    "    \n",
    "    plt.figure(figsize=(20,5))\n",
    "    p1 = plt.bar(ind, data[col3].values)\n",
    "    p2 = plt.bar(ind, data[col2].values)\n",
    "\n",
    "    plt.ylabel('Projects')\n",
    "    plt.title('% of projects aproved state wise')\n",
    "    plt.xticks(ind, list(data[xtick].values))\n",
    "    plt.legend((p1[0], p2[0]), ('total', 'accepted'))\n",
    "    plt.show()"
   ]
  },
  {
   "cell_type": "code",
   "execution_count": 8,
   "metadata": {},
   "outputs": [],
   "source": [
    "def univariate_barplots(data, col1, col2='project_is_approved', top=False):\n",
    "    # Count number of zeros in dataframe python: https://stackoverflow.com/a/51540521/4084039\n",
    "    temp = pd.DataFrame(project_data.groupby(col1)[col2].agg(lambda x: x.eq(1).sum())).reset_index()\n",
    "\n",
    "    # Pandas dataframe grouby count: https://stackoverflow.com/a/19385591/4084039\n",
    "    temp['total'] = pd.DataFrame(project_data.groupby(col1)[col2].agg(total='count')).reset_index()['total']\n",
    "    temp['Avg'] = pd.DataFrame(project_data.groupby(col1)[col2].agg(Avg='mean')).reset_index()['Avg']\n",
    "    \n",
    "    temp.sort_values(by=['total'],inplace=True, ascending=False)\n",
    "    \n",
    "    if top:\n",
    "        temp = temp[0:top]\n",
    "    \n",
    "    stack_plot(temp, xtick=col1, col2=col2, col3='total')\n",
    "    print(temp.head(5))\n",
    "    print(\"=\"*50)\n",
    "    print(temp.tail(5))"
   ]
  },
  {
   "cell_type": "code",
   "execution_count": 9,
   "metadata": {},
   "outputs": [
    {
     "data": {
      "image/png": "[encoded data removed]",
      "text/plain": [
       "<Figure size 1440x360 with 1 Axes>"
      ]
     },
     "metadata": {
      "needs_background": "light"
     },
     "output_type": "display_data"
    },
    {
     "name": "stdout",
     "output_type": "stream",
     "text": [
      "   teacher_number_of_previously_posted_projects  project_is_approved  total  \\\n",
      "0                                             0                24652  30014   \n",
      "1                                             1                13329  16058   \n",
      "2                                             2                 8705  10350   \n",
      "3                                             3                 5997   7110   \n",
      "4                                             4                 4452   5266   \n",
      "\n",
      "        Avg  \n",
      "0  0.821350  \n",
      "1  0.830054  \n",
      "2  0.841063  \n",
      "3  0.843460  \n",
      "4  0.845423  \n",
      "==================================================\n",
      "     teacher_number_of_previously_posted_projects  project_is_approved  total  \\\n",
      "242                                           242                    1      1   \n",
      "268                                           270                    1      1   \n",
      "234                                           234                    1      1   \n",
      "335                                           347                    1      1   \n",
      "373                                           451                    1      1   \n",
      "\n",
      "     Avg  \n",
      "242  1.0  \n",
      "268  1.0  \n",
      "234  1.0  \n",
      "335  1.0  \n",
      "373  1.0  \n"
     ]
    }
   ],
   "source": [
    "univariate_barplots(project_data, 'teacher_number_of_previously_posted_projects', 'project_is_approved' , top=False)"
   ]
  },
  {
   "cell_type": "code",
   "execution_count": 10,
   "metadata": {},
   "outputs": [
    {
     "data": {
      "text/plain": [
       "<matplotlib.axes._subplots.AxesSubplot at 0x118266b00>"
      ]
     },
     "execution_count": 10,
     "metadata": {},
     "output_type": "execute_result"
    },
    {
     "data": {
      "image/png": "[encoded data removed]",
      "text/plain": [
       "<Figure size 432x288 with 1 Axes>"
      ]
     },
     "metadata": {},
     "output_type": "display_data"
    }
   ],
   "source": [
    "sns.set_style(\"whitegrid\") \n",
    "sns.boxplot(x = 'project_is_approved', y = 'teacher_number_of_previously_posted_projects', data = project_data) \n",
    "\n"
   ]
  },
  {
   "cell_type": "markdown",
   "metadata": {},
   "source": [
    "we find more number of projected previsouly posted in project approved"
   ]
  },
  {
   "cell_type": "markdown",
   "metadata": {},
   "source": [
    "# Univariate analysis for feature resource summary"
   ]
  },
  {
   "cell_type": "code",
   "execution_count": 11,
   "metadata": {},
   "outputs": [],
   "source": [
    "sub_catogories = list(project_data['project_resource_summary'].values)\n",
    "# remove special characters from list of strings python: https://stackoverflow.com/a/47301924/4084039\n",
    "\n",
    "# https://www.geeksforgeeks.org/removing-stop-words-nltk-python/\n",
    "# https://stackoverflow.com/questions/23669024/how-to-strip-a-specific-word-from-a-string\n",
    "# https://stackoverflow.com/questions/8270092/remove-all-whitespace-in-a-string-in-python\n",
    "\n",
    "sub_cat_list = []\n",
    "for i in sub_catogories:\n",
    "    temp = \"\"\n",
    "    # consider we have text like this \"Math & Science, Warmth, Care & Hunger\"\n",
    "    for j in i.split(','): # it will split it in three parts [\"Math & Science\", \"Warmth\", \"Care & Hunger\"]\n",
    "        if 'The' in j.split(): # this will split each of the catogory based on space \"Math & Science\"=> \"Math\",\"&\", \"Science\"\n",
    "            j=j.replace('The','') # if we have the words \"The\" we are going to replace it with ''(i.e removing 'The')\n",
    "        j = j.replace(' ','') # we are placeing all the ' '(space) with ''(empty) ex:\"Math & Science\"=>\"Math&Science\"\n",
    "        temp +=j.strip()+\" \"#\" abc \".strip() will return \"abc\", remove the trailing spaces\n",
    "        temp = temp.replace('&','_')\n",
    "    sub_cat_list.append(temp.strip())"
   ]
  },
  {
   "cell_type": "code",
   "execution_count": 12,
   "metadata": {},
   "outputs": [
    {
     "data": {
      "text/html": [
       "<div>\n",
       "<style scoped>\n",
       "    .dataframe tbody tr th:only-of-type {\n",
       "        vertical-align: middle;\n",
       "    }\n",
       "\n",
       "    .dataframe tbody tr th {\n",
       "        vertical-align: top;\n",
       "    }\n",
       "\n",
       "    .dataframe thead th {\n",
       "        text-align: right;\n",
       "    }\n",
       "</style>\n",
       "<table border=\"1\" class=\"dataframe\">\n",
       "  <thead>\n",
       "    <tr style=\"text-align: right;\">\n",
       "      <th></th>\n",
       "      <th>Unnamed: 0</th>\n",
       "      <th>id</th>\n",
       "      <th>teacher_id</th>\n",
       "      <th>teacher_prefix</th>\n",
       "      <th>school_state</th>\n",
       "      <th>project_submitted_datetime</th>\n",
       "      <th>project_grade_category</th>\n",
       "      <th>project_subject_categories</th>\n",
       "      <th>project_subject_subcategories</th>\n",
       "      <th>project_title</th>\n",
       "      <th>project_essay_1</th>\n",
       "      <th>project_essay_2</th>\n",
       "      <th>project_essay_3</th>\n",
       "      <th>project_essay_4</th>\n",
       "      <th>project_resource_summary</th>\n",
       "      <th>teacher_number_of_previously_posted_projects</th>\n",
       "      <th>project_is_approved</th>\n",
       "    </tr>\n",
       "  </thead>\n",
       "  <tbody>\n",
       "    <tr>\n",
       "      <th>0</th>\n",
       "      <td>160221</td>\n",
       "      <td>p253737</td>\n",
       "      <td>c90749f5d961ff158d4b4d1e7dc665fc</td>\n",
       "      <td>Mrs.</td>\n",
       "      <td>IN</td>\n",
       "      <td>2016-12-05 13:43:57</td>\n",
       "      <td>Grades PreK-2</td>\n",
       "      <td>Literacy &amp; Language</td>\n",
       "      <td>ESL, Literacy</td>\n",
       "      <td>Educational Support for English Learners at Home</td>\n",
       "      <td>My students are English learners that are work...</td>\n",
       "      <td>\\\"The limits of your language are the limits o...</td>\n",
       "      <td>NaN</td>\n",
       "      <td>NaN</td>\n",
       "      <td>Mystudentsneedopportunitiestopracticebeginning...</td>\n",
       "      <td>0</td>\n",
       "      <td>0</td>\n",
       "    </tr>\n",
       "    <tr>\n",
       "      <th>1</th>\n",
       "      <td>140945</td>\n",
       "      <td>p258326</td>\n",
       "      <td>897464ce9ddc600bced1151f324dd63a</td>\n",
       "      <td>Mr.</td>\n",
       "      <td>FL</td>\n",
       "      <td>2016-10-25 09:22:10</td>\n",
       "      <td>Grades 6-8</td>\n",
       "      <td>History &amp; Civics, Health &amp; Sports</td>\n",
       "      <td>Civics &amp; Government, Team Sports</td>\n",
       "      <td>Wanted: Projector for Hungry Learners</td>\n",
       "      <td>Our students arrive to our school eager to lea...</td>\n",
       "      <td>The projector we need for our school is very c...</td>\n",
       "      <td>NaN</td>\n",
       "      <td>NaN</td>\n",
       "      <td>Mystudentsneedaprojectortohelpwithviewingeduca...</td>\n",
       "      <td>7</td>\n",
       "      <td>1</td>\n",
       "    </tr>\n",
       "  </tbody>\n",
       "</table>\n",
       "</div>"
      ],
      "text/plain": [
       "   Unnamed: 0       id                        teacher_id teacher_prefix  \\\n",
       "0      160221  p253737  c90749f5d961ff158d4b4d1e7dc665fc           Mrs.   \n",
       "1      140945  p258326  897464ce9ddc600bced1151f324dd63a            Mr.   \n",
       "\n",
       "  school_state project_submitted_datetime project_grade_category  \\\n",
       "0           IN        2016-12-05 13:43:57          Grades PreK-2   \n",
       "1           FL        2016-10-25 09:22:10             Grades 6-8   \n",
       "\n",
       "          project_subject_categories     project_subject_subcategories  \\\n",
       "0                Literacy & Language                     ESL, Literacy   \n",
       "1  History & Civics, Health & Sports  Civics & Government, Team Sports   \n",
       "\n",
       "                                      project_title  \\\n",
       "0  Educational Support for English Learners at Home   \n",
       "1             Wanted: Projector for Hungry Learners   \n",
       "\n",
       "                                     project_essay_1  \\\n",
       "0  My students are English learners that are work...   \n",
       "1  Our students arrive to our school eager to lea...   \n",
       "\n",
       "                                     project_essay_2 project_essay_3  \\\n",
       "0  \\\"The limits of your language are the limits o...             NaN   \n",
       "1  The projector we need for our school is very c...             NaN   \n",
       "\n",
       "  project_essay_4                           project_resource_summary  \\\n",
       "0             NaN  Mystudentsneedopportunitiestopracticebeginning...   \n",
       "1             NaN  Mystudentsneedaprojectortohelpwithviewingeduca...   \n",
       "\n",
       "   teacher_number_of_previously_posted_projects  project_is_approved  \n",
       "0                                             0                    0  \n",
       "1                                             7                    1  "
      ]
     },
     "execution_count": 12,
     "metadata": {},
     "output_type": "execute_result"
    }
   ],
   "source": [
    "project_data['project_resource_summary'] = sub_cat_list\n",
    "\n",
    "project_data.head(2)"
   ]
  },
  {
   "cell_type": "code",
   "execution_count": 13,
   "metadata": {},
   "outputs": [
    {
     "data": {
      "image/png": "[encoded data removed]",
      "text/plain": [
       "<Figure size 1440x360 with 1 Axes>"
      ]
     },
     "metadata": {},
     "output_type": "display_data"
    },
    {
     "name": "stdout",
     "output_type": "stream",
     "text": [
      "                                project_resource_summary  project_is_approved  \\\n",
      "56503  Mystudentsneedelectronictabletstodoallthething...                   40   \n",
      "10221  MystudentsneedChromebookstodoallthethingsthatw...                   14   \n",
      "51318  Mystudentsneedchromebookstodoallthethingsthatw...                    8   \n",
      "18711  MystudentsneedaDellChromebook3120andaGoogleEDU...                    7   \n",
      "18707  MystudentsneedaDellChromebook3120116CeleronN28...                    6   \n",
      "\n",
      "       total       Avg  \n",
      "56503     48  0.833333  \n",
      "10221     15  0.933333  \n",
      "51318      9  0.888889  \n",
      "18711      7  1.000000  \n",
      "18707      6  1.000000  \n",
      "==================================================\n",
      "                                project_resource_summary  project_is_approved  \\\n",
      "18713  MystudentsneedaDellChromebookandGoogleEDUManag...                    5   \n",
      "4340   Mystudentsneed3\\\"iPad\\\"minisandcasestoprotectt...                    5   \n",
      "4327   Mystudentsneed3TexasInstrumentsTI-84Plusgraphi...                    5   \n",
      "3863   Mystudentsneed3Chromebookcomputerstoengageinme...                    4   \n",
      "51121  Mystudentsneedchromebooksinordertocompetewitht...                    4   \n",
      "\n",
      "       total  Avg  \n",
      "18713      5  1.0  \n",
      "4340       5  1.0  \n",
      "4327       5  1.0  \n",
      "3863       4  1.0  \n",
      "51121      4  1.0  \n"
     ]
    }
   ],
   "source": [
    "univariate_barplots(project_data, 'project_resource_summary', 'project_is_approved', top=10)"
   ]
  },
  {
   "cell_type": "code",
   "execution_count": 14,
   "metadata": {},
   "outputs": [],
   "source": [
    "project_data = pd.read_csv('train_data.csv')\n"
   ]
  },
  {
   "cell_type": "code",
   "execution_count": 15,
   "metadata": {},
   "outputs": [],
   "source": [
    "%matplotlib inline\n",
    "import warnings\n",
    "warnings.filterwarnings(\"ignore\")\n",
    "\n",
    "import pandas as pd\n",
    "import numpy as np\n",
    "from sklearn.feature_extraction.text import TfidfVectorizer\n",
    "from sklearn.feature_extraction.text import CountVectorizer\n",
    "\n",
    "\n",
    "import re\n",
    "# Tutorial about Python regular expressions: https://pymotw.com/2/re/\n",
    "\n",
    "from nltk.corpus import stopwords\n",
    "import pickle\n",
    "\n",
    "from tqdm import tqdm\n",
    "import os"
   ]
  },
  {
   "cell_type": "code",
   "execution_count": 16,
   "metadata": {},
   "outputs": [
    {
     "data": {
      "text/plain": [
       "grades_prek_2    44225\n",
       "grades_3_5       37137\n",
       "grades_6_8       16923\n",
       "grades_9_12      10963\n",
       "Name: project_grade_category, dtype: int64"
      ]
     },
     "execution_count": 16,
     "metadata": {},
     "output_type": "execute_result"
    }
   ],
   "source": [
    "\n",
    "# https://stackoverflow.com/questions/36383821/pandas-dataframe-apply-function-to-column-strings-based-on-other-column-value\n",
    "project_data['project_grade_category'] = project_data['project_grade_category'].str.replace(' ','_')\n",
    "project_data['project_grade_category'] = project_data['project_grade_category'].str.replace('-','_')\n",
    "project_data['project_grade_category'] = project_data['project_grade_category'].str.lower()\n",
    "project_data['project_grade_category'].value_counts()"
   ]
  },
  {
   "cell_type": "code",
   "execution_count": 17,
   "metadata": {},
   "outputs": [],
   "source": [
    "project_data['project_subject_categories'] = project_data['project_subject_categories'].str.replace(' The ','')\n",
    "project_data['project_subject_categories'] = project_data['project_subject_categories'].str.replace(' ','')\n",
    "project_data['project_subject_categories'] = project_data['project_subject_categories'].str.replace('&','_')\n",
    "project_data['project_subject_categories'] = project_data['project_subject_categories'].str.replace(',','_')\n",
    "project_data['project_subject_categories'] = project_data['project_subject_categories'].str.lower()\n",
    "#project_data['project_subject_categories'].value_counts()"
   ]
  },
  {
   "cell_type": "code",
   "execution_count": 18,
   "metadata": {},
   "outputs": [
    {
     "name": "stdout",
     "output_type": "stream",
     "text": [
      "True\n",
      "number of nan values 3\n"
     ]
    }
   ],
   "source": [
    "project_data['teacher_prefix'].value_counts()\n",
    "# check if we have any nan values are there\n",
    "print(project_data['teacher_prefix'].isnull().values.any())\n",
    "print(\"number of nan values\",project_data['teacher_prefix'].isnull().values.sum())"
   ]
  },
  {
   "cell_type": "code",
   "execution_count": 19,
   "metadata": {},
   "outputs": [],
   "source": [
    "project_data['teacher_prefix']=project_data['teacher_prefix'].fillna('Mrs.')\n",
    "#project_data['teacher_prefix'].value_counts()"
   ]
  },
  {
   "cell_type": "code",
   "execution_count": 20,
   "metadata": {},
   "outputs": [],
   "source": [
    "project_data['teacher_prefix'] = project_data['teacher_prefix'].str.replace('.','')\n",
    "project_data['teacher_prefix'] = project_data['teacher_prefix'].str.lower()\n",
    "#project_data['teacher_prefix'].value_counts()"
   ]
  },
  {
   "cell_type": "code",
   "execution_count": 21,
   "metadata": {},
   "outputs": [
    {
     "data": {
      "text/plain": [
       "Literacy                                    9486\n",
       "Literacy, Mathematics                       8325\n",
       "Literature & Writing, Mathematics           5923\n",
       "Literacy, Literature & Writing              5571\n",
       "Mathematics                                 5379\n",
       "                                            ... \n",
       "Economics, Nutrition Education                 1\n",
       "Economics, Music                               1\n",
       "Gym & Fitness, Parent Involvement              1\n",
       "Civics & Government, Nutrition Education       1\n",
       "Community Service, Gym & Fitness               1\n",
       "Name: project_subject_subcategories, Length: 401, dtype: int64"
      ]
     },
     "execution_count": 21,
     "metadata": {},
     "output_type": "execute_result"
    }
   ],
   "source": [
    "project_data['project_subject_subcategories'].value_counts()"
   ]
  },
  {
   "cell_type": "code",
   "execution_count": 22,
   "metadata": {},
   "outputs": [
    {
     "data": {
      "text/plain": [
       "literacy                                 9486\n",
       "literacy_mathematics                     8325\n",
       "literature_writing_mathematics           5923\n",
       "literacy_literature_writing              5571\n",
       "mathematics                              5379\n",
       "                                         ... \n",
       "gym_fitness_warmth_care_hunger              1\n",
       "gym_fitness_parentinvolvement               1\n",
       "extracurricular_financialliteracy           1\n",
       "economics_foreignlanguages                  1\n",
       "college_careerprep_warmth_care_hunger       1\n",
       "Name: project_subject_subcategories, Length: 401, dtype: int64"
      ]
     },
     "execution_count": 22,
     "metadata": {},
     "output_type": "execute_result"
    }
   ],
   "source": [
    "project_data['project_subject_subcategories'] = project_data['project_subject_subcategories'].str.replace(' The ','')\n",
    "project_data['project_subject_subcategories'] = project_data['project_subject_subcategories'].str.replace(' ','')\n",
    "project_data['project_subject_subcategories'] = project_data['project_subject_subcategories'].str.replace('&','_')\n",
    "project_data['project_subject_subcategories'] = project_data['project_subject_subcategories'].str.replace(',','_')\n",
    "project_data['project_subject_subcategories'] = project_data['project_subject_subcategories'].str.lower()\n",
    "project_data['project_subject_subcategories'].value_counts()"
   ]
  },
  {
   "cell_type": "code",
   "execution_count": 23,
   "metadata": {},
   "outputs": [
    {
     "data": {
      "text/plain": [
       "CA    15388\n",
       "TX     7396\n",
       "NY     7318\n",
       "FL     6185\n",
       "NC     5091\n",
       "IL     4350\n",
       "GA     3963\n",
       "SC     3936\n",
       "MI     3161\n",
       "PA     3109\n",
       "IN     2620\n",
       "MO     2576\n",
       "OH     2467\n",
       "LA     2394\n",
       "MA     2389\n",
       "WA     2334\n",
       "OK     2276\n",
       "NJ     2237\n",
       "AZ     2147\n",
       "VA     2045\n",
       "WI     1827\n",
       "AL     1762\n",
       "UT     1731\n",
       "TN     1688\n",
       "CT     1663\n",
       "MD     1514\n",
       "NV     1367\n",
       "MS     1323\n",
       "KY     1304\n",
       "OR     1242\n",
       "MN     1208\n",
       "CO     1111\n",
       "AR     1049\n",
       "ID      693\n",
       "IA      666\n",
       "KS      634\n",
       "NM      557\n",
       "DC      516\n",
       "HI      507\n",
       "ME      505\n",
       "WV      503\n",
       "NH      348\n",
       "AK      345\n",
       "DE      343\n",
       "NE      309\n",
       "SD      300\n",
       "RI      285\n",
       "MT      245\n",
       "ND      143\n",
       "WY       98\n",
       "VT       80\n",
       "Name: school_state, dtype: int64"
      ]
     },
     "execution_count": 23,
     "metadata": {},
     "output_type": "execute_result"
    }
   ],
   "source": [
    "project_data['school_state'].value_counts()"
   ]
  },
  {
   "cell_type": "code",
   "execution_count": 24,
   "metadata": {},
   "outputs": [
    {
     "data": {
      "text/plain": [
       "ca    15388\n",
       "tx     7396\n",
       "ny     7318\n",
       "fl     6185\n",
       "nc     5091\n",
       "il     4350\n",
       "ga     3963\n",
       "sc     3936\n",
       "mi     3161\n",
       "pa     3109\n",
       "in     2620\n",
       "mo     2576\n",
       "oh     2467\n",
       "la     2394\n",
       "ma     2389\n",
       "wa     2334\n",
       "ok     2276\n",
       "nj     2237\n",
       "az     2147\n",
       "va     2045\n",
       "wi     1827\n",
       "al     1762\n",
       "ut     1731\n",
       "tn     1688\n",
       "ct     1663\n",
       "md     1514\n",
       "nv     1367\n",
       "ms     1323\n",
       "ky     1304\n",
       "or     1242\n",
       "mn     1208\n",
       "co     1111\n",
       "ar     1049\n",
       "id      693\n",
       "ia      666\n",
       "ks      634\n",
       "nm      557\n",
       "dc      516\n",
       "hi      507\n",
       "me      505\n",
       "wv      503\n",
       "nh      348\n",
       "ak      345\n",
       "de      343\n",
       "ne      309\n",
       "sd      300\n",
       "ri      285\n",
       "mt      245\n",
       "nd      143\n",
       "wy       98\n",
       "vt       80\n",
       "Name: school_state, dtype: int64"
      ]
     },
     "execution_count": 24,
     "metadata": {},
     "output_type": "execute_result"
    }
   ],
   "source": [
    "project_data['school_state'] = project_data['school_state'].str.lower()\n",
    "project_data['school_state'].value_counts()"
   ]
  },
  {
   "cell_type": "code",
   "execution_count": 25,
   "metadata": {},
   "outputs": [],
   "source": [
    "# https://stackoverflow.com/a/47091490/4084039\n",
    "import re\n",
    "\n",
    "def decontracted(phrase):\n",
    "    # specific\n",
    "    phrase = re.sub(r\"won't\", \"will not\", phrase)\n",
    "    phrase = re.sub(r\"can\\'t\", \"can not\", phrase)\n",
    "\n",
    "    # general\n",
    "    phrase = re.sub(r\"n\\'t\", \" not\", phrase)\n",
    "    phrase = re.sub(r\"\\'re\", \" are\", phrase)\n",
    "    phrase = re.sub(r\"\\'s\", \" is\", phrase)\n",
    "    phrase = re.sub(r\"\\'d\", \" would\", phrase)\n",
    "    phrase = re.sub(r\"\\'ll\", \" will\", phrase)\n",
    "    phrase = re.sub(r\"\\'t\", \" not\", phrase)\n",
    "    phrase = re.sub(r\"\\'ve\", \" have\", phrase)\n",
    "    phrase = re.sub(r\"\\'m\", \" am\", phrase)\n",
    "    return phrase"
   ]
  },
  {
   "cell_type": "code",
   "execution_count": 26,
   "metadata": {},
   "outputs": [],
   "source": [
    "# https://gist.github.com/sebleier/554280\n",
    "# we are removing the words from the stop words list: 'no', 'nor', 'not'\n",
    "stopwords= ['i', 'me', 'my', 'myself', 'we', 'our', 'ours', 'ourselves', 'you', \"you're\", \"you've\",\\\n",
    "            \"you'll\", \"you'd\", 'your', 'yours', 'yourself', 'yourselves', 'he', 'him', 'his', 'himself', \\\n",
    "            'she', \"she's\", 'her', 'hers', 'herself', 'it', \"it's\", 'its', 'itself', 'they', 'them', 'their',\\\n",
    "            'theirs', 'themselves', 'what', 'which', 'who', 'whom', 'this', 'that', \"that'll\", 'these', 'those', \\\n",
    "            'am', 'is', 'are', 'was', 'were', 'be', 'been', 'being', 'have', 'has', 'had', 'having', 'do', 'does', \\\n",
    "            'did', 'doing', 'a', 'an', 'the', 'and', 'but', 'if', 'or', 'because', 'as', 'until', 'while', 'of', \\\n",
    "            'at', 'by', 'for', 'with', 'about', 'against', 'between', 'into', 'through', 'during', 'before', 'after',\\\n",
    "            'above', 'below', 'to', 'from', 'up', 'down', 'in', 'out', 'on', 'off', 'over', 'under', 'again', 'further',\\\n",
    "            'then', 'once', 'here', 'there', 'when', 'where', 'why', 'how', 'all', 'any', 'both', 'each', 'few', 'more',\\\n",
    "            'most', 'other', 'some', 'such', 'only', 'own', 'same', 'so', 'than', 'too', 'very', \\\n",
    "            's', 't', 'can', 'will', 'just', 'don', \"don't\", 'should', \"should've\", 'now', 'd', 'll', 'm', 'o', 're', \\\n",
    "            've', 'y', 'ain', 'aren', \"aren't\", 'couldn', \"couldn't\", 'didn', \"didn't\", 'doesn', \"doesn't\", 'hadn',\\\n",
    "            \"hadn't\", 'hasn', \"hasn't\", 'haven', \"haven't\", 'isn', \"isn't\", 'ma', 'mightn', \"mightn't\", 'mustn',\\\n",
    "            \"mustn't\", 'needn', \"needn't\", 'shan', \"shan't\", 'shouldn', \"shouldn't\", 'wasn', \"wasn't\", 'weren', \"weren't\", \\\n",
    "            'won', \"won't\", 'wouldn', \"wouldn't\"]"
   ]
  },
  {
   "cell_type": "code",
   "execution_count": 27,
   "metadata": {},
   "outputs": [
    {
     "data": {
      "text/plain": [
       "0     Educational Support for English Learners at Home\n",
       "1                Wanted: Projector for Hungry Learners\n",
       "2    Soccer Equipment for AWESOME Middle School Stu...\n",
       "3                               Techie Kindergarteners\n",
       "4                               Interactive Math Tools\n",
       "Name: project_title, dtype: object"
      ]
     },
     "execution_count": 27,
     "metadata": {},
     "output_type": "execute_result"
    }
   ],
   "source": [
    "project_data['project_title'].head(5)"
   ]
  },
  {
   "cell_type": "code",
   "execution_count": 28,
   "metadata": {},
   "outputs": [
    {
     "name": "stdout",
     "output_type": "stream",
     "text": [
      "printing some random reviews\n",
      "9 Just For the Love of Reading--\\r\\nPure Pleasure\n",
      "34 \\\"Have A Ball!!!\\\"\n",
      "147 Who needs a Chromebook?\\r\\nWE DO!!\n"
     ]
    }
   ],
   "source": [
    "print(\"printing some random reviews\")\n",
    "print(9, project_data['project_title'].values[9])\n",
    "print(34, project_data['project_title'].values[34])\n",
    "print(147, project_data['project_title'].values[147])"
   ]
  },
  {
   "cell_type": "code",
   "execution_count": 29,
   "metadata": {},
   "outputs": [],
   "source": [
    "# Combining all the above stundents \n",
    "from tqdm import tqdm\n",
    "def preprocess_text(text_data):\n",
    "    preprocessed_text = []\n",
    "    # tqdm is for printing the status bar\n",
    "    for sentance in tqdm(text_data):\n",
    "        sent = decontracted(sentance)\n",
    "        sent = sent.replace('\\\\r', ' ')\n",
    "        sent = sent.replace('\\\\n', ' ')\n",
    "        sent = sent.replace('\\\\\"', ' ')\n",
    "        sent = re.sub('[^A-Za-z0-9]+', ' ', sent)\n",
    "        # https://gist.github.com/sebleier/554280\n",
    "        sent = ' '.join(e for e in sent.split() if e.lower() not in stopwords)\n",
    "        preprocessed_text.append(sent.lower().strip())\n",
    "    return preprocessed_text"
   ]
  },
  {
   "cell_type": "code",
   "execution_count": 30,
   "metadata": {},
   "outputs": [
    {
     "name": "stderr",
     "output_type": "stream",
     "text": [
      "100%|██████████| 109248/109248 [00:03<00:00, 27661.83it/s]\n"
     ]
    }
   ],
   "source": [
    "preprocessed_titles = preprocess_text(project_data['project_title'].values)"
   ]
  },
  {
   "cell_type": "code",
   "execution_count": 31,
   "metadata": {},
   "outputs": [
    {
     "name": "stdout",
     "output_type": "stream",
     "text": [
      "printing some random reviews\n",
      "9 love reading pure pleasure\n",
      "34 ball\n",
      "147 needs chromebook\n"
     ]
    }
   ],
   "source": [
    "print(\"printing some random reviews\")\n",
    "print(9, preprocessed_titles[9])\n",
    "print(34, preprocessed_titles[34])\n",
    "print(147, preprocessed_titles[147])"
   ]
  },
  {
   "cell_type": "code",
   "execution_count": 32,
   "metadata": {},
   "outputs": [],
   "source": [
    "# merge two column text dataframe: \n",
    "project_data[\"essay\"] = project_data[\"project_essay_1\"].map(str) +\\\n",
    "                        project_data[\"project_essay_2\"].map(str) + \\\n",
    "                        project_data[\"project_essay_3\"].map(str) + \\\n",
    "                        project_data[\"project_essay_4\"].map(str)"
   ]
  },
  {
   "cell_type": "code",
   "execution_count": 33,
   "metadata": {},
   "outputs": [
    {
     "name": "stdout",
     "output_type": "stream",
     "text": [
      "printing some random essay\n",
      "9 Over 95% of my students are on free or reduced lunch.  I have a few who are homeless, but despite that, they come to school with an eagerness to learn.  My students are inquisitive eager learners who  embrace the challenge of not having great books and other resources  every day.  Many of them are not afforded the opportunity to engage with these big colorful pages of a book on a regular basis at home and they don't travel to the public library.  \\r\\nIt is my duty as a teacher to do all I can to provide each student an opportunity to succeed in every aspect of life. \\r\\nReading is Fundamental! My students will read these books over and over again while boosting their comprehension skills. These books will be used for read alouds, partner reading and for Independent reading. \\r\\nThey will engage in reading to build their \\\"Love for Reading\\\" by reading for pure enjoyment. They will be introduced to some new authors as well as some old favorites. I want my students to be ready for the 21st Century and know the pleasure of holding a good hard back book in hand. There's nothing like a good book to read!  \\r\\nMy students will soar in Reading, and more because of your consideration and generous funding contribution. This will help build stamina and prepare for 3rd grade. Thank you so much for reading our proposal!nannan\n",
      "--------------------------------------------------\n",
      "34 My students mainly come from extremely low-income families, and the majority of them come from homes where both parents work full time. Most of my students are at school from 7:30 am to 6:00 pm (2:30 to 6:00 pm in the after-school program), and they all receive free and reduced meals for breakfast and lunch. \\r\\n\\r\\n\\r\\nI want my students to feel  as comfortable in my classroom as they do at home. Many of my students take on multiple roles both at home as well as in school. They are sometimes the caretakers of younger siblings, cooks, babysitters, academics, friends, and most of all, they are developing who they are going to become as adults.  I consider it an essential part of my job to model helping others gain knowledge in a positive manner. As a result, I have a community of students who love helping each other in and outside of the classroom. They consistently look for opportunities to support each other's learning in a kind and helpful way.I am excited to be experimenting with alternative seating in my classroom this school year. Studies have shown that giving students the option of where they sit in a classroom increases focus as well as motivation.  \\r\\n\\r\\nBy allowing students choice in the classroom, they are able to explore and create in a welcoming environment. Alternative classroom seating has been experimented with more frequently in recent years. I believe (along with many others), that every child learns differently. This does not only apply to how multiplication is memorized, or a paper is written, but applies to the space in which they are asked to work. I have had students in the past ask \\\"Can I work in the library? Can I work on the carpet?\\\" My answer was always, \\\"As long as you're learning, you can work wherever you want!\\\" \\r\\n\\r\\nWith the yoga balls and the lap-desks, I will be able to increase the options for seating in my classroom and expand its imaginable space.nannan\n",
      "--------------------------------------------------\n",
      "147 My students are eager to learn and make their mark on the world.\\r\\n\\r\\nThey come from a Title 1 school and need extra love.\\r\\n\\r\\nMy fourth grade students are in a high poverty area and still come to school every day to get their education. I am trying to make it fun and educational for them so they can get the most out of their schooling. I created a caring environment for the students to bloom! They deserve the best.\\r\\nThank you!\\r\\nI am requesting 1 Chromebook to access online interventions, differentiate instruction, and get extra practice. The Chromebook will be used to supplement ELA and math instruction. Students will play ELA and math games that are engaging and fun, as well as participate in assignments online. This in turn will help my students improve their skills. Having a Chromebook in the classroom would not only allow students to use the programs at their own pace, but would ensure more students are getting adequate time to use the programs. The online programs have been especially beneficial to my students with special needs. They are able to work at their level as well as be challenged with some different materials. This is making these students more confident in their abilities.\\r\\n\\r\\nThe Chromebook would allow my students to have daily access to computers and increase their computing skills.\\r\\nThis will change their lives for the better as they become more successful in school. Having access to technology in the classroom would help bridge the achievement gap.nannan\n"
     ]
    }
   ],
   "source": [
    "print(\"printing some random essay\")\n",
    "print(9, project_data['essay'].values[9])\n",
    "print('-'*50)\n",
    "print(34, project_data['essay'].values[34])\n",
    "print('-'*50)\n",
    "print(147, project_data['essay'].values[147])"
   ]
  },
  {
   "cell_type": "code",
   "execution_count": 34,
   "metadata": {},
   "outputs": [
    {
     "name": "stderr",
     "output_type": "stream",
     "text": [
      "100%|██████████| 109248/109248 [01:34<00:00, 1153.38it/s]\n"
     ]
    }
   ],
   "source": [
    "preprocessed_essays = preprocess_text(project_data['essay'].values)"
   ]
  },
  {
   "cell_type": "code",
   "execution_count": 35,
   "metadata": {},
   "outputs": [],
   "source": [
    "project_data['preprocessed_essays'] = preprocessed_essays"
   ]
  },
  {
   "cell_type": "code",
   "execution_count": 36,
   "metadata": {},
   "outputs": [],
   "source": [
    "project_data['preprocessed_titles']=preprocessed_titles"
   ]
  },
  {
   "cell_type": "code",
   "execution_count": 37,
   "metadata": {},
   "outputs": [],
   "source": [
    "project_data.drop(['project_essay_1','project_essay_2','project_essay_3','project_essay_4','project_resource_summary','project_title','essay'], axis=1, inplace=True)\n"
   ]
  },
  {
   "cell_type": "code",
   "execution_count": 38,
   "metadata": {},
   "outputs": [],
   "source": [
    "project_data.drop(['Unnamed: 0'], axis=1, inplace=True)\n"
   ]
  },
  {
   "cell_type": "code",
   "execution_count": 39,
   "metadata": {},
   "outputs": [
    {
     "data": {
      "text/html": [
       "<div>\n",
       "<style scoped>\n",
       "    .dataframe tbody tr th:only-of-type {\n",
       "        vertical-align: middle;\n",
       "    }\n",
       "\n",
       "    .dataframe tbody tr th {\n",
       "        vertical-align: top;\n",
       "    }\n",
       "\n",
       "    .dataframe thead th {\n",
       "        text-align: right;\n",
       "    }\n",
       "</style>\n",
       "<table border=\"1\" class=\"dataframe\">\n",
       "  <thead>\n",
       "    <tr style=\"text-align: right;\">\n",
       "      <th></th>\n",
       "      <th>id</th>\n",
       "      <th>price</th>\n",
       "      <th>quantity</th>\n",
       "    </tr>\n",
       "  </thead>\n",
       "  <tbody>\n",
       "    <tr>\n",
       "      <th>0</th>\n",
       "      <td>p000001</td>\n",
       "      <td>459.56</td>\n",
       "      <td>7</td>\n",
       "    </tr>\n",
       "    <tr>\n",
       "      <th>1</th>\n",
       "      <td>p000002</td>\n",
       "      <td>515.89</td>\n",
       "      <td>21</td>\n",
       "    </tr>\n",
       "  </tbody>\n",
       "</table>\n",
       "</div>"
      ],
      "text/plain": [
       "        id   price  quantity\n",
       "0  p000001  459.56         7\n",
       "1  p000002  515.89        21"
      ]
     },
     "execution_count": 39,
     "metadata": {},
     "output_type": "execute_result"
    }
   ],
   "source": [
    "# https://stackoverflow.com/questions/22407798/how-to-reset-a-dataframes-indexes-for-all-groups-in-one-step\n",
    "price_data = resource_data.groupby('id').agg({'price':'sum', 'quantity':'sum'}).reset_index()\n",
    "price_data.head(2)"
   ]
  },
  {
   "cell_type": "code",
   "execution_count": 40,
   "metadata": {},
   "outputs": [],
   "source": [
    "# join two dataframes in python: \n",
    "project_data = pd.merge(project_data, price_data, on='id', how='left')"
   ]
  },
  {
   "cell_type": "code",
   "execution_count": 41,
   "metadata": {},
   "outputs": [
    {
     "data": {
      "text/plain": [
       "0    154.60\n",
       "1    299.00\n",
       "2    516.85\n",
       "3    232.90\n",
       "4     67.98\n",
       "Name: price, dtype: float64"
      ]
     },
     "execution_count": 41,
     "metadata": {},
     "output_type": "execute_result"
    }
   ],
   "source": [
    "project_data['price'].head()"
   ]
  },
  {
   "cell_type": "code",
   "execution_count": 42,
   "metadata": {},
   "outputs": [],
   "source": [
    "project_data.drop(['quantity'], axis=1, inplace=True)"
   ]
  },
  {
   "cell_type": "markdown",
   "metadata": {},
   "source": [
    "# count word in title"
   ]
  },
  {
   "cell_type": "code",
   "execution_count": 44,
   "metadata": {},
   "outputs": [],
   "source": [
    "#https://www.geeksforgeeks.org/python-program-to-count-words-in-a-sentence/\n",
    "title_word_count = []\n",
    "for i in project_data[\"preprocessed_titles\"] :\n",
    "    find_length = len(i.split())\n",
    "    title_word_count.append(find_length)\n",
    "project_data[\"title_word_count\"] = title_word_count\n"
   ]
  },
  {
   "cell_type": "code",
   "execution_count": 45,
   "metadata": {},
   "outputs": [],
   "source": [
    "#count essay word length\n",
    "#https://www.geeksforgeeks.org/python-program-to-count-words-in-a-sentence/\n",
    "essay_word_count = []\n",
    "for i in project_data[\"preprocessed_essays\"] :\n",
    "    find_length = len(i.split())\n",
    "    essay_word_count.append(find_length)\n",
    "project_data[\"essay_word_count\"] = essay_word_count\n"
   ]
  },
  {
   "cell_type": "code",
   "execution_count": 46,
   "metadata": {},
   "outputs": [],
   "source": [
    "project_data.drop(['project_submitted_datetime'], axis=1, inplace=True)"
   ]
  },
  {
   "cell_type": "markdown",
   "metadata": {},
   "source": [
    "# train test split"
   ]
  },
  {
   "cell_type": "code",
   "execution_count": 47,
   "metadata": {},
   "outputs": [],
   "source": [
    "y = project_data['project_is_approved'].values\n",
    "X = project_data.drop(['project_is_approved'], axis=1)\n",
    "X.head(1)\n",
    "from sklearn.model_selection import train_test_split\n",
    "X_train, X_test, y_train, y_test = train_test_split(X, y, test_size=0.33, stratify=y)\n",
    "X_train, X_cv, y_train, y_cv = train_test_split(X_train, y_train, test_size=0.33, stratify=y_train)"
   ]
  },
  {
   "cell_type": "markdown",
   "metadata": {},
   "source": [
    "# Calculate Bag of Words"
   ]
  },
  {
   "cell_type": "code",
   "execution_count": 48,
   "metadata": {},
   "outputs": [
    {
     "name": "stdout",
     "output_type": "stream",
     "text": [
      "(49041, 13) (49041,)\n",
      "(24155, 13) (24155,)\n",
      "(36052, 13) (36052,)\n",
      "====================================================================================================\n",
      "After vectorizations\n",
      "(49041, 5000) (49041,)\n",
      "(24155, 5000) (24155,)\n",
      "(36052, 5000) (36052,)\n",
      "====================================================================================================\n"
     ]
    }
   ],
   "source": [
    "print(X_train.shape, y_train.shape)\n",
    "print(X_cv.shape, y_cv.shape)\n",
    "print(X_test.shape, y_test.shape)\n",
    "\n",
    "print(\"=\"*100)\n",
    "\n",
    "\n",
    "vectorizer_essay_bow = CountVectorizer(min_df=10,ngram_range=(1,4), max_features=5000)\n",
    "vectorizer_essay_bow.fit(X_train['preprocessed_essays'].values) # fit has to happen only on train data\n",
    "\n",
    "# we use the fitted CountVectorizer to convert the text to vector\n",
    "X_train_essay_bow = vectorizer_essay_bow.transform(X_train['preprocessed_essays'].values)\n",
    "X_cv_essay_bow = vectorizer_essay_bow.transform(X_cv['preprocessed_essays'].values)\n",
    "X_test_essay_bow = vectorizer_essay_bow.transform(X_test['preprocessed_essays'].values)\n",
    "\n",
    "print(\"After vectorizations\")\n",
    "print(X_train_essay_bow.shape, y_train.shape)\n",
    "print(X_cv_essay_bow.shape, y_cv.shape)\n",
    "print(X_test_essay_bow.shape, y_test.shape)\n",
    "print(\"=\"*100)"
   ]
  },
  {
   "cell_type": "markdown",
   "metadata": {},
   "source": [
    "Bag of words for project_title feature"
   ]
  },
  {
   "cell_type": "code",
   "execution_count": 49,
   "metadata": {},
   "outputs": [
    {
     "name": "stdout",
     "output_type": "stream",
     "text": [
      "(49041, 13) (49041,)\n",
      "(24155, 13) (24155,)\n",
      "(36052, 13) (36052,)\n",
      "====================================================================================================\n",
      "After vectorizations\n",
      "(49041, 3410) (49041,)\n",
      "(24155, 3410) (24155,)\n",
      "(36052, 3410) (36052,)\n",
      "====================================================================================================\n"
     ]
    }
   ],
   "source": [
    "print(X_train.shape, y_train.shape)\n",
    "print(X_cv.shape, y_cv.shape)\n",
    "print(X_test.shape, y_test.shape)\n",
    "\n",
    "print(\"=\"*100)\n",
    "\n",
    "\n",
    "vectorizer_project_title_bow = CountVectorizer(min_df=10,ngram_range=(1,4), max_features=5000)\n",
    "vectorizer_project_title_bow.fit(X_train['preprocessed_titles'].values) # fit has to happen only on train data\n",
    "\n",
    "# we use the fitted CountVectorizer to convert the text to vector\n",
    "X_train_project_title_bow = vectorizer_project_title_bow.transform(X_train['preprocessed_titles'].values)\n",
    "X_cv_project_title_bow = vectorizer_project_title_bow.transform(X_cv['preprocessed_titles'].values)\n",
    "X_test_project_title_bow = vectorizer_project_title_bow.transform(X_test['preprocessed_titles'].values)\n",
    "\n",
    "print(\"After vectorizations\")\n",
    "print(X_train_project_title_bow.shape, y_train.shape)\n",
    "print(X_cv_project_title_bow.shape, y_cv.shape)\n",
    "print(X_test_project_title_bow.shape, y_test.shape)\n",
    "print(\"=\"*100)"
   ]
  },
  {
   "cell_type": "markdown",
   "metadata": {},
   "source": [
    "# One hot encoding for other categorical features\n"
   ]
  },
  {
   "cell_type": "markdown",
   "metadata": {},
   "source": [
    "for school state feature"
   ]
  },
  {
   "cell_type": "code",
   "execution_count": 50,
   "metadata": {},
   "outputs": [
    {
     "name": "stdout",
     "output_type": "stream",
     "text": [
      "After vectorizations\n",
      "(49041, 51) (49041,)\n",
      "(24155, 51) (24155,)\n",
      "(36052, 51) (36052,)\n",
      "['ak', 'al', 'ar', 'az', 'ca', 'co', 'ct', 'dc', 'de', 'fl', 'ga', 'hi', 'ia', 'id', 'il', 'in', 'ks', 'ky', 'la', 'ma', 'md', 'me', 'mi', 'mn', 'mo', 'ms', 'mt', 'nc', 'nd', 'ne', 'nh', 'nj', 'nm', 'nv', 'ny', 'oh', 'ok', 'or', 'pa', 'ri', 'sc', 'sd', 'tn', 'tx', 'ut', 'va', 'vt', 'wa', 'wi', 'wv', 'wy']\n",
      "====================================================================================================\n"
     ]
    }
   ],
   "source": [
    "vectorizer_school_state = CountVectorizer()\n",
    "vectorizer_school_state.fit(X_train['school_state'].values) # fit has to happen only on train data\n",
    "\n",
    "# we use the fitted CountVectorizer to convert the text to vector\n",
    "X_train_state_ohe = vectorizer_school_state.transform(X_train['school_state'].values)\n",
    "X_cv_state_ohe = vectorizer_school_state.transform(X_cv['school_state'].values)\n",
    "X_test_state_ohe = vectorizer_school_state.transform(X_test['school_state'].values)\n",
    "\n",
    "print(\"After vectorizations\")\n",
    "print(X_train_state_ohe.shape, y_train.shape)\n",
    "print(X_cv_state_ohe.shape, y_cv.shape)\n",
    "print(X_test_state_ohe.shape, y_test.shape)\n",
    "print(vectorizer_school_state.get_feature_names())\n",
    "print(\"=\"*100)"
   ]
  },
  {
   "cell_type": "markdown",
   "metadata": {},
   "source": [
    "for teacher_prefix feature"
   ]
  },
  {
   "cell_type": "code",
   "execution_count": 51,
   "metadata": {},
   "outputs": [
    {
     "name": "stdout",
     "output_type": "stream",
     "text": [
      "After vectorizations\n",
      "(49041, 5) (49041,)\n",
      "(24155, 5) (24155,)\n",
      "(36052, 5) (36052,)\n",
      "['dr', 'mr', 'mrs', 'ms', 'teacher']\n",
      "====================================================================================================\n"
     ]
    }
   ],
   "source": [
    "vectorizer_teacher_prefix = CountVectorizer()\n",
    "vectorizer_teacher_prefix.fit(X_train['teacher_prefix'].values) # fit has to happen only on train data\n",
    "\n",
    "# we use the fitted CountVectorizer to convert the text to vector\n",
    "X_train_teacher_ohe = vectorizer_teacher_prefix.transform(X_train['teacher_prefix'].values)\n",
    "X_cv_teacher_ohe = vectorizer_teacher_prefix.transform(X_cv['teacher_prefix'].values)\n",
    "X_test_teacher_ohe = vectorizer_teacher_prefix.transform(X_test['teacher_prefix'].values)\n",
    "\n",
    "print(\"After vectorizations\")\n",
    "print(X_train_teacher_ohe.shape, y_train.shape)\n",
    "print(X_cv_teacher_ohe.shape, y_cv.shape)\n",
    "print(X_test_teacher_ohe.shape, y_test.shape)\n",
    "print(vectorizer_teacher_prefix.get_feature_names())\n",
    "print(\"=\"*100)"
   ]
  },
  {
   "cell_type": "markdown",
   "metadata": {},
   "source": [
    "for project_grade_Category feature"
   ]
  },
  {
   "cell_type": "code",
   "execution_count": 52,
   "metadata": {},
   "outputs": [
    {
     "name": "stdout",
     "output_type": "stream",
     "text": [
      "After vectorizations\n",
      "(49041, 4) (49041,)\n",
      "(24155, 4) (24155,)\n",
      "(36052, 4) (36052,)\n",
      "['grades_3_5', 'grades_6_8', 'grades_9_12', 'grades_prek_2']\n",
      "====================================================================================================\n"
     ]
    }
   ],
   "source": [
    "vectorizer_project_grade_category = CountVectorizer()\n",
    "vectorizer_project_grade_category.fit(X_train['project_grade_category'].values) # fit has to happen only on train data\n",
    "\n",
    "# we use the fitted CountVectorizer to convert the text to vector\n",
    "X_train_grade_ohe = vectorizer_project_grade_category.transform(X_train['project_grade_category'].values)\n",
    "X_cv_grade_ohe = vectorizer_project_grade_category.transform(X_cv['project_grade_category'].values)\n",
    "X_test_grade_ohe =vectorizer_project_grade_category.transform(X_test['project_grade_category'].values)\n",
    "\n",
    "print(\"After vectorizations\")\n",
    "print(X_train_grade_ohe.shape, y_train.shape)\n",
    "print(X_cv_grade_ohe.shape, y_cv.shape)\n",
    "print(X_test_grade_ohe.shape, y_test.shape)\n",
    "print(vectorizer_project_grade_category.get_feature_names())\n",
    "print(\"=\"*100)"
   ]
  },
  {
   "cell_type": "markdown",
   "metadata": {},
   "source": [
    "for project_subject_categories and project_subject_subcategories"
   ]
  },
  {
   "cell_type": "code",
   "execution_count": 53,
   "metadata": {},
   "outputs": [
    {
     "name": "stdout",
     "output_type": "stream",
     "text": [
      "After vectorizations\n",
      "(49041, 50) (49041,)\n",
      "(24155, 50) (24155,)\n",
      "(36052, 50) (36052,)\n",
      "====================================================================================================\n"
     ]
    }
   ],
   "source": [
    "vectorizer_project_subject_category = CountVectorizer()\n",
    "vectorizer_project_subject_category.fit(X_train['project_subject_categories'].values) # fit has to happen only on train data\n",
    "\n",
    "# we use the fitted CountVectorizer to convert the text to vector\n",
    "X_train_subject_ohe = vectorizer_project_subject_category.transform(X_train['project_subject_categories'].values)\n",
    "X_cv_subject_ohe = vectorizer_project_subject_category.transform(X_cv['project_subject_categories'].values)\n",
    "X_test_subject_ohe =vectorizer_project_subject_category.transform(X_test['project_subject_categories'].values)\n",
    "\n",
    "print(\"After vectorizations\")\n",
    "print(X_train_subject_ohe.shape, y_train.shape)\n",
    "print(X_cv_subject_ohe.shape, y_cv.shape)\n",
    "print(X_test_subject_ohe.shape, y_test.shape)\n",
    "\n",
    "print(\"=\"*100)"
   ]
  },
  {
   "cell_type": "code",
   "execution_count": 54,
   "metadata": {},
   "outputs": [
    {
     "name": "stdout",
     "output_type": "stream",
     "text": [
      "After vectorizations\n",
      "(49041, 377) (49041,)\n",
      "(24155, 377) (24155,)\n",
      "(36052, 377) (36052,)\n",
      "====================================================================================================\n"
     ]
    }
   ],
   "source": [
    "vectorizer_project_subject_subcategories = CountVectorizer()\n",
    "vectorizer_project_subject_subcategories.fit(X_train['project_subject_subcategories'].values) # fit has to happen only on train data\n",
    "\n",
    "# we use the fitted CountVectorizer to convert the text to vector\n",
    "X_train_sub_subject_ohe = vectorizer_project_subject_subcategories.transform(X_train['project_subject_subcategories'].values)\n",
    "X_cv_sub_subject_ohe = vectorizer_project_subject_subcategories.transform(X_cv['project_subject_subcategories'].values)\n",
    "X_test_sub_subject_ohe =vectorizer_project_subject_subcategories.transform(X_test['project_subject_subcategories'].values)\n",
    "\n",
    "print(\"After vectorizations\")\n",
    "print(X_train_sub_subject_ohe .shape, y_train.shape)\n",
    "print(X_cv_sub_subject_ohe.shape, y_cv.shape)\n",
    "print(X_test_sub_subject_ohe.shape, y_test.shape)\n",
    "\n",
    "print(\"=\"*100)"
   ]
  },
  {
   "cell_type": "markdown",
   "metadata": {},
   "source": [
    "# encoding numerical features: Price"
   ]
  },
  {
   "cell_type": "markdown",
   "metadata": {},
   "source": [
    "# price feature"
   ]
  },
  {
   "cell_type": "code",
   "execution_count": 55,
   "metadata": {},
   "outputs": [
    {
     "name": "stdout",
     "output_type": "stream",
     "text": [
      "After vectorizations\n",
      "(49041, 1) (49041,)\n",
      "(24155, 1) (24155,)\n",
      "(36052, 1) (36052,)\n",
      "====================================================================================================\n"
     ]
    }
   ],
   "source": [
    "from sklearn.preprocessing import Normalizer\n",
    "normalizer = Normalizer()\n",
    "\n",
    "normalizer.fit(X_train['price'].values.reshape(1,-1))\n",
    "\n",
    "X_train_price_norm = normalizer.transform(X_train['price'].values.reshape(1,-1)).reshape(-1,1)\n",
    "X_cv_price_norm = normalizer.transform(X_cv['price'].values.reshape(1,-1)).reshape(-1,1)\n",
    "X_test_price_norm = normalizer.transform(X_test['price'].values.reshape(1,-1)).reshape(-1,1)\n",
    "\n",
    "\n",
    "\n",
    "print(\"After vectorizations\")\n",
    "print(X_train_price_norm.shape, y_train.shape)\n",
    "print(X_cv_price_norm.shape, y_cv.shape)\n",
    "print(X_test_price_norm.shape, y_test.shape)\n",
    "print(\"=\"*100)"
   ]
  },
  {
   "cell_type": "markdown",
   "metadata": {},
   "source": [
    "normalize title word count feature"
   ]
  },
  {
   "cell_type": "code",
   "execution_count": 56,
   "metadata": {},
   "outputs": [
    {
     "name": "stdout",
     "output_type": "stream",
     "text": [
      "After vectorizations\n",
      "(49041, 1) (49041,)\n",
      "(24155, 1) (24155,)\n",
      "(36052, 1) (36052,)\n",
      "====================================================================================================\n"
     ]
    }
   ],
   "source": [
    "\n",
    "normalizer = Normalizer()\n",
    "\n",
    "normalizer.fit(X_train['title_word_count'].values.reshape(1,-1))\n",
    "\n",
    "X_train_title_word_count_norm = normalizer.transform(X_train['title_word_count'].values.reshape(1,-1)).reshape(-1,1)\n",
    "X_cv_title_word_count_norm = normalizer.transform(X_cv['title_word_count'].values.reshape(1,-1)).reshape(-1,1)\n",
    "X_test_title_word_count_norm = normalizer.transform(X_test['title_word_count'].values.reshape(1,-1)).reshape(-1,1)\n",
    "\n",
    "\n",
    "\n",
    "print(\"After vectorizations\")\n",
    "print(X_train_title_word_count_norm.shape, y_train.shape)\n",
    "print(X_cv_title_word_count_norm.shape, y_cv.shape)\n",
    "print(X_test_title_word_count_norm.shape, y_test.shape)\n",
    "print(\"=\"*100)"
   ]
  },
  {
   "cell_type": "markdown",
   "metadata": {},
   "source": [
    "normalize essay_word_count"
   ]
  },
  {
   "cell_type": "code",
   "execution_count": 57,
   "metadata": {},
   "outputs": [
    {
     "name": "stdout",
     "output_type": "stream",
     "text": [
      "After vectorizations\n",
      "(49041, 1) (49041,)\n",
      "(24155, 1) (24155,)\n",
      "(36052, 1) (36052,)\n",
      "====================================================================================================\n"
     ]
    }
   ],
   "source": [
    "normalizer = Normalizer()\n",
    "\n",
    "normalizer.fit(X_train['essay_word_count'].values.reshape(1,-1))\n",
    "\n",
    "X_train_essay_word_count_norm = normalizer.transform(X_train['essay_word_count'].values.reshape(1,-1)).reshape(-1,1)\n",
    "X_cv_essay_word_count_norm = normalizer.transform(X_cv['essay_word_count'].values.reshape(1,-1)).reshape(-1,1)\n",
    "X_test_essay_word_count_norm = normalizer.transform(X_test['essay_word_count'].values.reshape(1,-1)).reshape(-1,1)\n",
    "\n",
    "\n",
    "\n",
    "print(\"After vectorizations\")\n",
    "print(X_train_essay_word_count_norm.shape, y_train.shape)\n",
    "print(X_cv_essay_word_count_norm.shape, y_cv.shape)\n",
    "print(X_test_essay_word_count_norm.shape, y_test.shape)\n",
    "print(\"=\"*100)"
   ]
  },
  {
   "cell_type": "code",
   "execution_count": 58,
   "metadata": {},
   "outputs": [
    {
     "name": "stdout",
     "output_type": "stream",
     "text": [
      "After vectorizations\n",
      "(49041, 1) (49041,)\n",
      "(24155, 1) (24155,)\n",
      "(36052, 1) (36052,)\n",
      "====================================================================================================\n"
     ]
    }
   ],
   "source": [
    "normalizer = Normalizer()\n",
    "# normalizer.fit(X_train['price'].values)\n",
    "# this will rise an error Expected 2D array, got 1D array instead: \n",
    "# array=[105.22 215.96  96.01 ... 368.98  80.53 709.67].\n",
    "# Reshape your data either using \n",
    "# array.reshape(-1, 1) if your data has a single feature \n",
    "# array.reshape(1, -1)  if it contains a single sample.\n",
    "\n",
    "normalizer.fit(X_train['teacher_number_of_previously_posted_projects'].values.reshape(1,-1))\n",
    "\n",
    "X_train_project_submit_count_norm = normalizer.transform(X_train['teacher_number_of_previously_posted_projects'].values.reshape(-1,1))\n",
    "X_cv_project_submit_count_norm = normalizer.transform(X_cv['teacher_number_of_previously_posted_projects'].values.reshape(-1,1))\n",
    "X_test_project_submit_count_norm = normalizer.transform(X_test['teacher_number_of_previously_posted_projects'].values.reshape(-1,1))\n",
    "\n",
    "print(\"After vectorizations\")\n",
    "print(X_train_project_submit_count_norm.shape, y_train.shape)\n",
    "print(X_cv_project_submit_count_norm.shape, y_cv.shape)\n",
    "print(X_test_project_submit_count_norm.shape, y_test.shape)\n",
    "print(\"=\"*100)"
   ]
  },
  {
   "cell_type": "markdown",
   "metadata": {},
   "source": [
    "# Concatinating all the features"
   ]
  },
  {
   "cell_type": "code",
   "execution_count": 59,
   "metadata": {},
   "outputs": [
    {
     "name": "stdout",
     "output_type": "stream",
     "text": [
      "Final Data matrix\n",
      "(49041, 8901) (49041,)\n",
      "(24155, 8901) (24155,)\n",
      "(36052, 8901) (36052,)\n",
      "====================================================================================================\n"
     ]
    }
   ],
   "source": [
    "# merge two sparse matrices: https://stackoverflow.com/a/19710648/4084039\n",
    "from scipy.sparse import hstack\n",
    "X_tr = hstack((X_train_essay_bow,X_train_project_title_bow,X_train_state_ohe,X_train_teacher_ohe,X_train_grade_ohe,X_train_subject_ohe,X_train_sub_subject_ohe,X_train_price_norm,X_train_title_word_count_norm,X_train_essay_word_count_norm,X_train_project_submit_count_norm)).tocsr()\n",
    "X_cr = hstack((X_cv_essay_bow,X_cv_project_title_bow,X_cv_state_ohe,X_cv_teacher_ohe,X_cv_grade_ohe,X_cv_subject_ohe,X_cv_sub_subject_ohe,X_cv_price_norm,X_cv_title_word_count_norm,X_cv_essay_word_count_norm,X_cv_project_submit_count_norm)).tocsr()\n",
    "X_te = hstack((X_test_essay_bow,X_test_project_title_bow,X_test_state_ohe,X_test_teacher_ohe,X_test_grade_ohe,X_test_subject_ohe,X_test_sub_subject_ohe,X_test_price_norm,X_test_title_word_count_norm,X_test_essay_word_count_norm,X_test_project_submit_count_norm)).tocsr()\n",
    "\n",
    "print(\"Final Data matrix\")\n",
    "print(X_tr.shape, y_train.shape)\n",
    "print(X_cr.shape, y_cv.shape)\n",
    "print(X_te.shape, y_test.shape)\n",
    "print(\"=\"*100)"
   ]
  },
  {
   "cell_type": "markdown",
   "metadata": {},
   "source": [
    "# Applying Multinomial Naive Bayes: BOW featurization\n"
   ]
  },
  {
   "cell_type": "code",
   "execution_count": 60,
   "metadata": {},
   "outputs": [],
   "source": [
    "def batch_predict(clf, data):\n",
    "    # roc_auc_score(y_true, y_score) the 2nd parameter should be probability estimates of the positive class\n",
    "    # not the predicted outputs\n",
    "\n",
    "    y_data_pred = []\n",
    "    tr_loop = data.shape[0] - data.shape[0]%1000\n",
    "    # consider you X_tr shape is 49041, then your tr_loop will be 49041 - 49041%1000 = 49000\n",
    "    # in this for loop we will iterate unti the last 1000 multiplier\n",
    "    for i in range(0, tr_loop, 1000):\n",
    "        y_data_pred.extend(clf.predict_proba(data[i:i+1000])[:,1])\n",
    "    # we will be predicting for the last data points\n",
    "    if data.shape[0]%1000 !=0:\n",
    "        y_data_pred.extend(clf.predict_proba(data[tr_loop:])[:,1])\n",
    "    \n",
    "    return y_data_pred"
   ]
  },
  {
   "cell_type": "code",
   "execution_count": 62,
   "metadata": {},
   "outputs": [
    {
     "name": "stderr",
     "output_type": "stream",
     "text": [
      "\r",
      "  0%|          | 0/14 [00:00<?, ?it/s]"
     ]
    },
    {
     "name": "stdout",
     "output_type": "stream",
     "text": [
      "for alpha = 1e-05\n"
     ]
    },
    {
     "name": "stderr",
     "output_type": "stream",
     "text": [
      "\r",
      "  7%|▋         | 1/14 [00:00<00:05,  2.38it/s]"
     ]
    },
    {
     "name": "stdout",
     "output_type": "stream",
     "text": [
      "for alpha = 0.0005\n"
     ]
    },
    {
     "name": "stderr",
     "output_type": "stream",
     "text": [
      "\r",
      " 14%|█▍        | 2/14 [00:01<00:05,  2.01it/s]"
     ]
    },
    {
     "name": "stdout",
     "output_type": "stream",
     "text": [
      "for alpha = 0.0001\n"
     ]
    },
    {
     "name": "stderr",
     "output_type": "stream",
     "text": [
      "\r",
      " 21%|██▏       | 3/14 [00:01<00:05,  2.01it/s]"
     ]
    },
    {
     "name": "stdout",
     "output_type": "stream",
     "text": [
      "for alpha = 0.005\n"
     ]
    },
    {
     "name": "stderr",
     "output_type": "stream",
     "text": [
      "\r",
      " 29%|██▊       | 4/14 [00:01<00:04,  2.34it/s]"
     ]
    },
    {
     "name": "stdout",
     "output_type": "stream",
     "text": [
      "for alpha = 0.001\n"
     ]
    },
    {
     "name": "stderr",
     "output_type": "stream",
     "text": [
      "\r",
      " 36%|███▌      | 5/14 [00:02<00:03,  2.56it/s]"
     ]
    },
    {
     "name": "stdout",
     "output_type": "stream",
     "text": [
      "for alpha = 0.05\n"
     ]
    },
    {
     "name": "stderr",
     "output_type": "stream",
     "text": [
      "\r",
      " 43%|████▎     | 6/14 [00:02<00:02,  2.79it/s]"
     ]
    },
    {
     "name": "stdout",
     "output_type": "stream",
     "text": [
      "for alpha = 0.01\n"
     ]
    },
    {
     "name": "stderr",
     "output_type": "stream",
     "text": [
      "\r",
      " 50%|█████     | 7/14 [00:02<00:02,  2.91it/s]"
     ]
    },
    {
     "name": "stdout",
     "output_type": "stream",
     "text": [
      "for alpha = 0.1\n"
     ]
    },
    {
     "name": "stderr",
     "output_type": "stream",
     "text": [
      "\r",
      " 57%|█████▋    | 8/14 [00:03<00:02,  3.00it/s]"
     ]
    },
    {
     "name": "stdout",
     "output_type": "stream",
     "text": [
      "for alpha = 0.5\n"
     ]
    },
    {
     "name": "stderr",
     "output_type": "stream",
     "text": [
      "\r",
      " 64%|██████▍   | 9/14 [00:03<00:01,  3.13it/s]"
     ]
    },
    {
     "name": "stdout",
     "output_type": "stream",
     "text": [
      "for alpha = 1\n"
     ]
    },
    {
     "name": "stderr",
     "output_type": "stream",
     "text": [
      "\r",
      " 71%|███████▏  | 10/14 [00:03<00:01,  3.19it/s]"
     ]
    },
    {
     "name": "stdout",
     "output_type": "stream",
     "text": [
      "for alpha = 5\n"
     ]
    },
    {
     "name": "stderr",
     "output_type": "stream",
     "text": [
      "\r",
      " 79%|███████▊  | 11/14 [00:03<00:00,  3.29it/s]"
     ]
    },
    {
     "name": "stdout",
     "output_type": "stream",
     "text": [
      "for alpha = 10\n"
     ]
    },
    {
     "name": "stderr",
     "output_type": "stream",
     "text": [
      "\r",
      " 86%|████████▌ | 12/14 [00:04<00:00,  3.25it/s]"
     ]
    },
    {
     "name": "stdout",
     "output_type": "stream",
     "text": [
      "for alpha = 50\n"
     ]
    },
    {
     "name": "stderr",
     "output_type": "stream",
     "text": [
      "\r",
      " 93%|█████████▎| 13/14 [00:04<00:00,  3.43it/s]"
     ]
    },
    {
     "name": "stdout",
     "output_type": "stream",
     "text": [
      "for alpha = 100\n"
     ]
    },
    {
     "name": "stderr",
     "output_type": "stream",
     "text": [
      "100%|██████████| 14/14 [00:04<00:00,  2.92it/s]\n",
      "100%|██████████| 14/14 [00:00<00:00, 21446.40it/s]\n"
     ]
    },
    {
     "data": {
      "image/png": "[encoded data removed]",
      "text/plain": [
       "<Figure size 432x288 with 1 Axes>"
      ]
     },
     "metadata": {
      "needs_background": "light"
     },
     "output_type": "display_data"
    }
   ],
   "source": [
    "import matplotlib.pyplot as plt\n",
    "from sklearn.naive_bayes import MultinomialNB\n",
    "from sklearn.metrics import roc_auc_score\n",
    "import math\n",
    "\"\"\"\n",
    "y_true : array, shape = [n_samples] or [n_samples, n_classes]\n",
    "True binary labels or binary label indicators.\n",
    "\n",
    "y_score : array, shape = [n_samples] or [n_samples, n_classes]\n",
    "Target scores, can either be probability estimates of the positive class, confidence values, or non-thresholded measure of\n",
    "decisions (as returned by “decision_function” on some classifiers). \n",
    "For binary y_true, y_score is supposed to be the score of the class with greater label.\n",
    "\n",
    "\"\"\"\n",
    "\n",
    "train_auc = []\n",
    "cv_auc = []\n",
    "log_alpha=[]\n",
    "#alpha value taken from course case study \n",
    "alpha = [0.00001,0.0005, 0.0001,0.005,0.001,0.05,0.01,0.1,0.5,1,5,10,50,100]\n",
    "for i in tqdm(alpha):\n",
    "    print(\"for alpha =\", i)\n",
    "    naive_bayes = MultinomialNB(alpha=i, class_prior = [0.5, 0.5])\n",
    "    naive_bayes.fit(X_tr, y_train)\n",
    "\n",
    "    y_train_pred = batch_predict(naive_bayes, X_tr)    \n",
    "    y_cv_pred = batch_predict(naive_bayes, X_cr)\n",
    "\n",
    "    # roc_auc_score(y_true, y_score) the 2nd parameter should be probability estimates of the positive class\n",
    "    # not the predicted outputs        \n",
    "    train_auc.append(roc_auc_score(y_train,y_train_pred))\n",
    "    cv_auc.append(roc_auc_score(y_cv, y_cv_pred))\n",
    "\n",
    "for j in tqdm(alpha):\n",
    "    k=math.log(j)\n",
    "    log_alpha.append(k)\n",
    "\n",
    "plt.plot(log_alpha, train_auc, label='Train AUC')\n",
    "plt.plot(log_alpha, cv_auc, label='CV AUC')\n",
    "\n",
    "plt.scatter(log_alpha, train_auc, label='Train AUC points')\n",
    "plt.scatter(log_alpha, cv_auc, label='CV AUC points')\n",
    "\n",
    "plt.legend()\n",
    "plt.xlabel(\"alpha: hyperparameter\")\n",
    "plt.ylabel(\"AUC\")\n",
    "plt.title(\"ERROR PLOTS\")\n",
    "plt.grid()\n",
    "plt.show()"
   ]
  },
  {
   "cell_type": "markdown",
   "metadata": {},
   "source": [
    "# Gridsearch"
   ]
  },
  {
   "cell_type": "code",
   "execution_count": 63,
   "metadata": {},
   "outputs": [
    {
     "name": "stdout",
     "output_type": "stream",
     "text": [
      "Fitting 10 folds for each of 14 candidates, totalling 140 fits\n",
      "[CV] alpha=1e-05 .....................................................\n"
     ]
    },
    {
     "name": "stderr",
     "output_type": "stream",
     "text": [
      "[Parallel(n_jobs=1)]: Using backend SequentialBackend with 1 concurrent workers.\n"
     ]
    },
    {
     "name": "stdout",
     "output_type": "stream",
     "text": [
      "[CV] ...................................... alpha=1e-05, total=   0.1s\n",
      "[CV] alpha=1e-05 .....................................................\n"
     ]
    },
    {
     "name": "stderr",
     "output_type": "stream",
     "text": [
      "[Parallel(n_jobs=1)]: Done   1 out of   1 | elapsed:    0.3s remaining:    0.0s\n"
     ]
    },
    {
     "name": "stdout",
     "output_type": "stream",
     "text": [
      "[CV] ...................................... alpha=1e-05, total=   0.4s\n",
      "[CV] alpha=1e-05 .....................................................\n",
      "[CV] ...................................... alpha=1e-05, total=   0.1s\n",
      "[CV] alpha=1e-05 .....................................................\n",
      "[CV] ...................................... alpha=1e-05, total=   0.1s\n",
      "[CV] alpha=1e-05 .....................................................\n",
      "[CV] ...................................... alpha=1e-05, total=   0.2s\n",
      "[CV] alpha=1e-05 .....................................................\n",
      "[CV] ...................................... alpha=1e-05, total=   0.1s\n",
      "[CV] alpha=1e-05 .....................................................\n",
      "[CV] ...................................... alpha=1e-05, total=   0.1s\n",
      "[CV] alpha=1e-05 .....................................................\n",
      "[CV] ...................................... alpha=1e-05, total=   0.1s\n",
      "[CV] alpha=1e-05 .....................................................\n",
      "[CV] ...................................... alpha=1e-05, total=   0.1s\n",
      "[CV] alpha=1e-05 .....................................................\n",
      "[CV] ...................................... alpha=1e-05, total=   0.1s\n",
      "[CV] alpha=0.0005 ....................................................\n",
      "[CV] ..................................... alpha=0.0005, total=   0.1s\n",
      "[CV] alpha=0.0005 ....................................................\n",
      "[CV] ..................................... alpha=0.0005, total=   0.1s\n",
      "[CV] alpha=0.0005 ....................................................\n",
      "[CV] ..................................... alpha=0.0005, total=   0.1s\n",
      "[CV] alpha=0.0005 ....................................................\n",
      "[CV] ..................................... alpha=0.0005, total=   0.1s\n",
      "[CV] alpha=0.0005 ....................................................\n",
      "[CV] ..................................... alpha=0.0005, total=   0.1s\n",
      "[CV] alpha=0.0005 ....................................................\n",
      "[CV] ..................................... alpha=0.0005, total=   0.1s\n",
      "[CV] alpha=0.0005 ....................................................\n",
      "[CV] ..................................... alpha=0.0005, total=   0.1s\n",
      "[CV] alpha=0.0005 ....................................................\n",
      "[CV] ..................................... alpha=0.0005, total=   0.1s\n",
      "[CV] alpha=0.0005 ....................................................\n",
      "[CV] ..................................... alpha=0.0005, total=   0.1s\n",
      "[CV] alpha=0.0005 ....................................................\n",
      "[CV] ..................................... alpha=0.0005, total=   0.1s\n",
      "[CV] alpha=0.0001 ....................................................\n",
      "[CV] ..................................... alpha=0.0001, total=   0.1s\n",
      "[CV] alpha=0.0001 ....................................................\n",
      "[CV] ..................................... alpha=0.0001, total=   0.1s\n",
      "[CV] alpha=0.0001 ....................................................\n",
      "[CV] ..................................... alpha=0.0001, total=   0.1s\n",
      "[CV] alpha=0.0001 ....................................................\n",
      "[CV] ..................................... alpha=0.0001, total=   0.1s\n",
      "[CV] alpha=0.0001 ....................................................\n",
      "[CV] ..................................... alpha=0.0001, total=   0.1s\n",
      "[CV] alpha=0.0001 ....................................................\n",
      "[CV] ..................................... alpha=0.0001, total=   0.1s\n",
      "[CV] alpha=0.0001 ....................................................\n",
      "[CV] ..................................... alpha=0.0001, total=   0.1s\n",
      "[CV] alpha=0.0001 ....................................................\n",
      "[CV] ..................................... alpha=0.0001, total=   0.1s\n",
      "[CV] alpha=0.0001 ....................................................\n",
      "[CV] ..................................... alpha=0.0001, total=   0.1s\n",
      "[CV] alpha=0.0001 ....................................................\n",
      "[CV] ..................................... alpha=0.0001, total=   0.1s\n",
      "[CV] alpha=0.005 .....................................................\n",
      "[CV] ...................................... alpha=0.005, total=   0.1s\n",
      "[CV] alpha=0.005 .....................................................\n",
      "[CV] ...................................... alpha=0.005, total=   0.1s\n",
      "[CV] alpha=0.005 .....................................................\n",
      "[CV] ...................................... alpha=0.005, total=   0.1s\n",
      "[CV] alpha=0.005 .....................................................\n",
      "[CV] ...................................... alpha=0.005, total=   0.1s\n",
      "[CV] alpha=0.005 .....................................................\n",
      "[CV] ...................................... alpha=0.005, total=   0.1s\n",
      "[CV] alpha=0.005 .....................................................\n",
      "[CV] ...................................... alpha=0.005, total=   0.1s\n",
      "[CV] alpha=0.005 .....................................................\n",
      "[CV] ...................................... alpha=0.005, total=   0.1s\n",
      "[CV] alpha=0.005 .....................................................\n",
      "[CV] ...................................... alpha=0.005, total=   0.1s\n",
      "[CV] alpha=0.005 .....................................................\n",
      "[CV] ...................................... alpha=0.005, total=   0.1s\n",
      "[CV] alpha=0.005 .....................................................\n",
      "[CV] ...................................... alpha=0.005, total=   0.1s\n",
      "[CV] alpha=0.001 .....................................................\n",
      "[CV] ...................................... alpha=0.001, total=   0.1s\n",
      "[CV] alpha=0.001 .....................................................\n",
      "[CV] ...................................... alpha=0.001, total=   0.1s\n",
      "[CV] alpha=0.001 .....................................................\n",
      "[CV] ...................................... alpha=0.001, total=   0.1s\n",
      "[CV] alpha=0.001 .....................................................\n",
      "[CV] ...................................... alpha=0.001, total=   0.1s\n",
      "[CV] alpha=0.001 .....................................................\n",
      "[CV] ...................................... alpha=0.001, total=   0.1s\n",
      "[CV] alpha=0.001 .....................................................\n",
      "[CV] ...................................... alpha=0.001, total=   0.1s\n",
      "[CV] alpha=0.001 .....................................................\n",
      "[CV] ...................................... alpha=0.001, total=   0.1s\n",
      "[CV] alpha=0.001 .....................................................\n",
      "[CV] ...................................... alpha=0.001, total=   0.1s\n",
      "[CV] alpha=0.001 .....................................................\n",
      "[CV] ...................................... alpha=0.001, total=   0.1s\n",
      "[CV] alpha=0.001 .....................................................\n",
      "[CV] ...................................... alpha=0.001, total=   0.1s\n",
      "[CV] alpha=0.05 ......................................................\n",
      "[CV] ....................................... alpha=0.05, total=   0.1s\n",
      "[CV] alpha=0.05 ......................................................\n",
      "[CV] ....................................... alpha=0.05, total=   0.1s\n",
      "[CV] alpha=0.05 ......................................................\n",
      "[CV] ....................................... alpha=0.05, total=   0.1s\n",
      "[CV] alpha=0.05 ......................................................\n",
      "[CV] ....................................... alpha=0.05, total=   0.1s\n",
      "[CV] alpha=0.05 ......................................................\n",
      "[CV] ....................................... alpha=0.05, total=   0.1s\n",
      "[CV] alpha=0.05 ......................................................\n",
      "[CV] ....................................... alpha=0.05, total=   0.1s\n",
      "[CV] alpha=0.05 ......................................................\n",
      "[CV] ....................................... alpha=0.05, total=   0.1s\n",
      "[CV] alpha=0.05 ......................................................\n",
      "[CV] ....................................... alpha=0.05, total=   0.1s\n",
      "[CV] alpha=0.05 ......................................................\n",
      "[CV] ....................................... alpha=0.05, total=   0.1s\n",
      "[CV] alpha=0.05 ......................................................\n",
      "[CV] ....................................... alpha=0.05, total=   0.1s\n",
      "[CV] alpha=0.01 ......................................................\n"
     ]
    },
    {
     "name": "stdout",
     "output_type": "stream",
     "text": [
      "[CV] ....................................... alpha=0.01, total=   0.1s\n",
      "[CV] alpha=0.01 ......................................................\n",
      "[CV] ....................................... alpha=0.01, total=   0.1s\n",
      "[CV] alpha=0.01 ......................................................\n",
      "[CV] ....................................... alpha=0.01, total=   0.1s\n",
      "[CV] alpha=0.01 ......................................................\n",
      "[CV] ....................................... alpha=0.01, total=   0.1s\n",
      "[CV] alpha=0.01 ......................................................\n",
      "[CV] ....................................... alpha=0.01, total=   0.1s\n",
      "[CV] alpha=0.01 ......................................................\n",
      "[CV] ....................................... alpha=0.01, total=   0.1s\n",
      "[CV] alpha=0.01 ......................................................\n",
      "[CV] ....................................... alpha=0.01, total=   0.1s\n",
      "[CV] alpha=0.01 ......................................................\n",
      "[CV] ....................................... alpha=0.01, total=   0.1s\n",
      "[CV] alpha=0.01 ......................................................\n",
      "[CV] ....................................... alpha=0.01, total=   0.1s\n",
      "[CV] alpha=0.01 ......................................................\n",
      "[CV] ....................................... alpha=0.01, total=   0.1s\n",
      "[CV] alpha=0.1 .......................................................\n",
      "[CV] ........................................ alpha=0.1, total=   0.1s\n",
      "[CV] alpha=0.1 .......................................................\n",
      "[CV] ........................................ alpha=0.1, total=   0.1s\n",
      "[CV] alpha=0.1 .......................................................\n",
      "[CV] ........................................ alpha=0.1, total=   0.1s\n",
      "[CV] alpha=0.1 .......................................................\n",
      "[CV] ........................................ alpha=0.1, total=   0.1s\n",
      "[CV] alpha=0.1 .......................................................\n",
      "[CV] ........................................ alpha=0.1, total=   0.1s\n",
      "[CV] alpha=0.1 .......................................................\n",
      "[CV] ........................................ alpha=0.1, total=   0.1s\n",
      "[CV] alpha=0.1 .......................................................\n",
      "[CV] ........................................ alpha=0.1, total=   0.1s\n",
      "[CV] alpha=0.1 .......................................................\n",
      "[CV] ........................................ alpha=0.1, total=   0.1s\n",
      "[CV] alpha=0.1 .......................................................\n",
      "[CV] ........................................ alpha=0.1, total=   0.1s\n",
      "[CV] alpha=0.1 .......................................................\n",
      "[CV] ........................................ alpha=0.1, total=   0.1s\n",
      "[CV] alpha=0.5 .......................................................\n",
      "[CV] ........................................ alpha=0.5, total=   0.1s\n",
      "[CV] alpha=0.5 .......................................................\n",
      "[CV] ........................................ alpha=0.5, total=   0.1s\n",
      "[CV] alpha=0.5 .......................................................\n",
      "[CV] ........................................ alpha=0.5, total=   0.1s\n",
      "[CV] alpha=0.5 .......................................................\n",
      "[CV] ........................................ alpha=0.5, total=   0.1s\n",
      "[CV] alpha=0.5 .......................................................\n",
      "[CV] ........................................ alpha=0.5, total=   0.1s\n",
      "[CV] alpha=0.5 .......................................................\n",
      "[CV] ........................................ alpha=0.5, total=   0.1s\n",
      "[CV] alpha=0.5 .......................................................\n",
      "[CV] ........................................ alpha=0.5, total=   0.1s\n",
      "[CV] alpha=0.5 .......................................................\n",
      "[CV] ........................................ alpha=0.5, total=   0.1s\n",
      "[CV] alpha=0.5 .......................................................\n",
      "[CV] ........................................ alpha=0.5, total=   0.1s\n",
      "[CV] alpha=0.5 .......................................................\n",
      "[CV] ........................................ alpha=0.5, total=   0.1s\n",
      "[CV] alpha=1 .........................................................\n",
      "[CV] .......................................... alpha=1, total=   0.1s\n",
      "[CV] alpha=1 .........................................................\n",
      "[CV] .......................................... alpha=1, total=   0.1s\n",
      "[CV] alpha=1 .........................................................\n",
      "[CV] .......................................... alpha=1, total=   0.1s\n",
      "[CV] alpha=1 .........................................................\n",
      "[CV] .......................................... alpha=1, total=   0.1s\n",
      "[CV] alpha=1 .........................................................\n",
      "[CV] .......................................... alpha=1, total=   0.1s\n",
      "[CV] alpha=1 .........................................................\n",
      "[CV] .......................................... alpha=1, total=   0.1s\n",
      "[CV] alpha=1 .........................................................\n",
      "[CV] .......................................... alpha=1, total=   0.1s\n",
      "[CV] alpha=1 .........................................................\n",
      "[CV] .......................................... alpha=1, total=   0.1s\n",
      "[CV] alpha=1 .........................................................\n",
      "[CV] .......................................... alpha=1, total=   0.1s\n",
      "[CV] alpha=1 .........................................................\n",
      "[CV] .......................................... alpha=1, total=   0.1s\n",
      "[CV] alpha=5 .........................................................\n",
      "[CV] .......................................... alpha=5, total=   0.1s\n",
      "[CV] alpha=5 .........................................................\n",
      "[CV] .......................................... alpha=5, total=   0.1s\n",
      "[CV] alpha=5 .........................................................\n",
      "[CV] .......................................... alpha=5, total=   0.1s\n",
      "[CV] alpha=5 .........................................................\n",
      "[CV] .......................................... alpha=5, total=   0.1s\n",
      "[CV] alpha=5 .........................................................\n",
      "[CV] .......................................... alpha=5, total=   0.1s\n",
      "[CV] alpha=5 .........................................................\n",
      "[CV] .......................................... alpha=5, total=   0.1s\n",
      "[CV] alpha=5 .........................................................\n",
      "[CV] .......................................... alpha=5, total=   0.1s\n",
      "[CV] alpha=5 .........................................................\n",
      "[CV] .......................................... alpha=5, total=   0.1s\n",
      "[CV] alpha=5 .........................................................\n",
      "[CV] .......................................... alpha=5, total=   0.1s\n",
      "[CV] alpha=5 .........................................................\n",
      "[CV] .......................................... alpha=5, total=   0.1s\n",
      "[CV] alpha=10 ........................................................\n",
      "[CV] ......................................... alpha=10, total=   0.1s\n",
      "[CV] alpha=10 ........................................................\n",
      "[CV] ......................................... alpha=10, total=   0.1s\n",
      "[CV] alpha=10 ........................................................\n",
      "[CV] ......................................... alpha=10, total=   0.1s\n",
      "[CV] alpha=10 ........................................................\n",
      "[CV] ......................................... alpha=10, total=   0.1s\n",
      "[CV] alpha=10 ........................................................\n",
      "[CV] ......................................... alpha=10, total=   0.1s\n",
      "[CV] alpha=10 ........................................................\n",
      "[CV] ......................................... alpha=10, total=   0.1s\n",
      "[CV] alpha=10 ........................................................\n",
      "[CV] ......................................... alpha=10, total=   0.1s\n",
      "[CV] alpha=10 ........................................................\n",
      "[CV] ......................................... alpha=10, total=   0.1s\n",
      "[CV] alpha=10 ........................................................\n"
     ]
    },
    {
     "name": "stdout",
     "output_type": "stream",
     "text": [
      "[CV] ......................................... alpha=10, total=   0.1s\n",
      "[CV] alpha=10 ........................................................\n",
      "[CV] ......................................... alpha=10, total=   0.1s\n",
      "[CV] alpha=50 ........................................................\n",
      "[CV] ......................................... alpha=50, total=   0.1s\n",
      "[CV] alpha=50 ........................................................\n",
      "[CV] ......................................... alpha=50, total=   0.1s\n",
      "[CV] alpha=50 ........................................................\n",
      "[CV] ......................................... alpha=50, total=   0.1s\n",
      "[CV] alpha=50 ........................................................\n",
      "[CV] ......................................... alpha=50, total=   0.1s\n",
      "[CV] alpha=50 ........................................................\n",
      "[CV] ......................................... alpha=50, total=   0.1s\n",
      "[CV] alpha=50 ........................................................\n",
      "[CV] ......................................... alpha=50, total=   0.1s\n",
      "[CV] alpha=50 ........................................................\n",
      "[CV] ......................................... alpha=50, total=   0.1s\n",
      "[CV] alpha=50 ........................................................\n",
      "[CV] ......................................... alpha=50, total=   0.1s\n",
      "[CV] alpha=50 ........................................................\n",
      "[CV] ......................................... alpha=50, total=   0.1s\n",
      "[CV] alpha=50 ........................................................\n",
      "[CV] ......................................... alpha=50, total=   0.1s\n",
      "[CV] alpha=100 .......................................................\n",
      "[CV] ........................................ alpha=100, total=   0.1s\n",
      "[CV] alpha=100 .......................................................\n",
      "[CV] ........................................ alpha=100, total=   0.2s\n",
      "[CV] alpha=100 .......................................................\n",
      "[CV] ........................................ alpha=100, total=   0.1s\n",
      "[CV] alpha=100 .......................................................\n",
      "[CV] ........................................ alpha=100, total=   0.1s\n",
      "[CV] alpha=100 .......................................................\n",
      "[CV] ........................................ alpha=100, total=   0.2s\n",
      "[CV] alpha=100 .......................................................\n",
      "[CV] ........................................ alpha=100, total=   0.1s\n",
      "[CV] alpha=100 .......................................................\n",
      "[CV] ........................................ alpha=100, total=   0.1s\n",
      "[CV] alpha=100 .......................................................\n",
      "[CV] ........................................ alpha=100, total=   0.1s\n",
      "[CV] alpha=100 .......................................................\n",
      "[CV] ........................................ alpha=100, total=   0.1s\n",
      "[CV] alpha=100 .......................................................\n",
      "[CV] ........................................ alpha=100, total=   0.1s\n"
     ]
    },
    {
     "name": "stderr",
     "output_type": "stream",
     "text": [
      "[Parallel(n_jobs=1)]: Done 140 out of 140 | elapsed:   19.5s finished\n"
     ]
    }
   ],
   "source": [
    "#https://scikit-learn.org/stable/modules/grid_search.html\n",
    "#Gridsearchcv \n",
    "from sklearn.model_selection import GridSearchCV\n",
    "naive_bayes = MultinomialNB(class_prior=[0.5,0.5])\n",
    "#alpha value taken from course case study problem\n",
    "parameters = {'alpha':[0.00001,0.0005, 0.0001,0.005,0.001,0.05,0.01,0.1,0.5,1,5,10,50,100]}\n",
    "\n",
    "clf = GridSearchCV(naive_bayes, parameters, cv= 10, scoring='roc_auc',return_train_score=True,verbose=2)\n",
    "\n",
    "clf.fit(X_tr, y_train)\n",
    "\n",
    "train_auc= clf.cv_results_['mean_train_score']\n",
    "train_auc_std= clf.cv_results_['std_train_score']\n",
    "cv_auc = clf.cv_results_['mean_test_score'] \n",
    "cv_auc_std= clf.cv_results_['std_test_score']"
   ]
  },
  {
   "cell_type": "code",
   "execution_count": 65,
   "metadata": {},
   "outputs": [
    {
     "name": "stderr",
     "output_type": "stream",
     "text": [
      "100%|██████████| 14/14 [00:00<00:00, 5472.53it/s]\n"
     ]
    },
    {
     "data": {
      "image/png": "[encoded data removed]",
      "text/plain": [
       "<Figure size 1440x720 with 1 Axes>"
      ]
     },
     "metadata": {
      "needs_background": "light"
     },
     "output_type": "display_data"
    }
   ],
   "source": [
    "alpha = [0.00001,0.0005, 0.0001,0.005,0.001,0.05,0.01,0.1,0.5,1,5,10,50,100]\n",
    "log_alpha=[]\n",
    "for j in tqdm(alpha):\n",
    "    k = math.log(j)\n",
    "    log_alpha.append(k)\n",
    "\n",
    "plt.figure(figsize=(20,10))\n",
    "\n",
    "plt.plot(log_alpha, train_auc, label='Train AUC')\n",
    "\n",
    "# this code is copied from here: https://stackoverflow.com/a/48803361/4084039\n",
    "# plt.gca().fill_between(K, train_auc - train_auc_std,train_auc + train_auc_std,alpha=0.2,color='darkblue')\n",
    "\n",
    "\n",
    "\n",
    "plt.plot(log_alpha, cv_auc, label='CV AUC')\n",
    "# this code is copied from here: https://stackoverflow.com/a/48803361/4084039\n",
    "#plt.gca().fill_between(alpha,cv_auc - cv_auc_std,cv_auc + cv_auc_std,alpha=0.3,color='darkorange')\n",
    "\n",
    "plt.scatter(log_alpha, train_auc, label='Train AUC points')\n",
    "plt.scatter(log_alpha, cv_auc, label='CV AUC points')\n",
    "\n",
    "\n",
    "plt.legend()\n",
    "plt.xlabel(\"alpha: hyperparameter\")\n",
    "plt.ylabel(\"AUC\")\n",
    "plt.title(\"alpha: hyperparameter v/s AUC\")\n",
    "plt.grid(color='black', linestyle='-', linewidth=0.5)\n",
    "plt.show()"
   ]
  },
  {
   "cell_type": "code",
   "execution_count": 66,
   "metadata": {},
   "outputs": [
    {
     "name": "stdout",
     "output_type": "stream",
     "text": [
      "Best score:  0.688214401808872\n",
      "Bset alpha value :  {'alpha': 0.5}\n"
     ]
    }
   ],
   "source": [
    "#Output of GridSearchCV\n",
    "print('Best score: ',clf.best_score_)\n",
    "print('Bset alpha value : ',clf.best_params_)\n"
   ]
  },
  {
   "cell_type": "code",
   "execution_count": 82,
   "metadata": {},
   "outputs": [
    {
     "data": {
      "image/png": "[encoded data removed]",
      "text/plain": [
       "<Figure size 432x288 with 1 Axes>"
      ]
     },
     "metadata": {},
     "output_type": "display_data"
    }
   ],
   "source": [
    "best_alpha=0.5\n",
    "from sklearn.metrics import roc_curve, auc\n",
    "\n",
    "\n",
    "naive_bayes_bow = MultinomialNB(alpha=0.5,class_prior = [0.5, 0.5])\n",
    "naive_bayes_bow.fit(X_tr, y_train)\n",
    "# roc_auc_score(y_true, y_score) the 2nd parameter should be probability estimates of the positive class\n",
    "# not the predicted outputs\n",
    "\n",
    "y_train_pred = batch_predict(naive_bayes_bow, X_tr)    \n",
    "y_test_pred = batch_predict(naive_bayes_bow, X_te)\n",
    "\n",
    "train_fpr, train_tpr, tr_thresholds = roc_curve(y_train, y_train_pred)\n",
    "test_fpr, test_tpr, te_thresholds = roc_curve(y_test, y_test_pred)\n",
    "\n",
    "plt.plot(train_fpr, train_tpr, label=\"train AUC =\"+str(auc(train_fpr, train_tpr)))\n",
    "plt.plot(test_fpr, test_tpr, label=\"test AUC =\"+str(auc(test_fpr, test_tpr)))\n",
    "plt.legend()\n",
    "plt.xlabel(\"alpha: hyperparameter\")\n",
    "plt.ylabel(\"AUC\")\n",
    "plt.title(\"ERROR PLOTS\")\n",
    "plt.grid()\n",
    "plt.show()"
   ]
  },
  {
   "cell_type": "code",
   "execution_count": 83,
   "metadata": {},
   "outputs": [
    {
     "name": "stdout",
     "output_type": "stream",
     "text": [
      "====================================================================================================\n",
      "the maximum value of tpr*(1-fpr) 0.4641284479045425 for threshold 0.339\n",
      "Train confusion matrix\n",
      "[[ 4869  2557]\n",
      " [12157 29458]]\n",
      "Test confusion matrix\n",
      "[[ 3214  2245]\n",
      " [ 9361 21232]]\n"
     ]
    }
   ],
   "source": [
    "# we are writing our own function for predict, with defined thresould\n",
    "# we will pick a threshold that will give the least fpr\n",
    "def find_best_threshold(threshould, fpr, tpr):\n",
    "    t = threshould[np.argmax(tpr*(1-fpr))]\n",
    "    # (tpr*(1-fpr)) will be maximum if your fpr is very low and tpr is very high\n",
    "    print(\"the maximum value of tpr*(1-fpr)\", max(tpr*(1-fpr)), \"for threshold\", np.round(t,3))\n",
    "    return t\n",
    "\n",
    "def predict_with_best_t(proba, threshould):\n",
    "    predictions = []\n",
    "    for i in proba:\n",
    "        if i>=threshould:\n",
    "            predictions.append(1)\n",
    "        else:\n",
    "            predictions.append(0)\n",
    "    return predictions\n",
    "print(\"=\"*100)\n",
    "\n",
    "best_t = find_best_threshold(tr_thresholds, train_fpr, train_tpr)\n",
    "print(\"Train confusion matrix\")\n",
    "print(confusion_matrix(y_train, predict_with_best_t(y_train_pred, best_t)))\n",
    "print(\"Test confusion matrix\")\n",
    "print(confusion_matrix(y_test, predict_with_best_t(y_test_pred, best_t)))"
   ]
  },
  {
   "cell_type": "markdown",
   "metadata": {},
   "source": [
    "# calculate confusion matrix for train data"
   ]
  },
  {
   "cell_type": "code",
   "execution_count": 84,
   "metadata": {},
   "outputs": [
    {
     "name": "stdout",
     "output_type": "stream",
     "text": [
      "Train data confusion matrix\n"
     ]
    },
    {
     "data": {
      "text/plain": [
       "<matplotlib.axes._subplots.AxesSubplot at 0x1677beeb8>"
      ]
     },
     "execution_count": 84,
     "metadata": {},
     "output_type": "execute_result"
    },
    {
     "data": {
      "image/png": "[encoded data removed]",
      "text/plain": [
       "<Figure size 432x288 with 2 Axes>"
      ]
     },
     "metadata": {},
     "output_type": "display_data"
    }
   ],
   "source": [
    "#https://stackoverflow.com/questions/61748441/how-to-fix-the-values-displayed-in-a-confusion-matrix-in-exponential-form-to-nor\n",
    "#https://stackoverflow.com/questions/35572000/how-can-i-plot-a-confusion-matrix/35572520#35572520\n",
    "from sklearn.metrics import confusion_matrix\n",
    "import seaborn as sns\n",
    "import matplotlib.pyplot as plt  \n",
    "\n",
    "print(\"Train data confusion matrix\")\n",
    "\n",
    "confusion_matrix_train_data = pd.DataFrame(confusion_matrix(y_train, predict_with_best_t(y_train_pred, best_t)), range(2),range(2))\n",
    "sns.set(font_scale=1.4)#for label size\n",
    "sns.heatmap(confusion_matrix_train_data, annot=True,annot_kws={\"size\": 20}, fmt='g')\n"
   ]
  },
  {
   "cell_type": "markdown",
   "metadata": {},
   "source": [
    "# calculate confusion matrix for test data"
   ]
  },
  {
   "cell_type": "code",
   "execution_count": 85,
   "metadata": {},
   "outputs": [
    {
     "data": {
      "text/plain": [
       "<matplotlib.axes._subplots.AxesSubplot at 0x143ce7e80>"
      ]
     },
     "execution_count": 85,
     "metadata": {},
     "output_type": "execute_result"
    },
    {
     "data": {
      "image/png": "[encoded data removed]",
      "text/plain": [
       "<Figure size 432x288 with 2 Axes>"
      ]
     },
     "metadata": {},
     "output_type": "display_data"
    }
   ],
   "source": [
    "confusion_matrix_test_data = pd.DataFrame(confusion_matrix(y_test, predict_with_best_t(y_test_pred, best_t)), range(2),range(2))\n",
    "sns.set(font_scale=1.4)#for label size\n",
    "sns.heatmap(confusion_matrix_test_data, annot=True,annot_kws={\"size\": 16}, fmt='g')"
   ]
  },
  {
   "cell_type": "markdown",
   "metadata": {},
   "source": [
    "# top20 feature Bow of project_title and essay"
   ]
  },
  {
   "cell_type": "code",
   "execution_count": 86,
   "metadata": {},
   "outputs": [],
   "source": [
    "#https://www.geeksforgeeks.org/python-ways-to-concatenate-two-lists/\n",
    "#https://scikit-learn.org/stable/modules/generated/sklearn.feature_extraction.text.TfidfVectorizer.html\n",
    "bow_features=[]\n",
    "for f1 in vectorizer_essay_bow.get_feature_names():\n",
    "    bow_features.append(f1)\n",
    "    \n",
    "for f2 in vectorizer_project_title_bow.get_feature_names():\n",
    "    bow_features.append(f2)\n",
    "\n",
    "for f3 in vectorizer_school_state.get_feature_names():\n",
    "    bow_features.append(f3)\n",
    "    \n",
    "for f4 in vectorizer_teacher_prefix.get_feature_names():\n",
    "    bow_features.append(f4)\n",
    "    \n",
    "for f5 in  vectorizer_project_grade_category.get_feature_names():\n",
    "    bow_features.append(f5)\n",
    "\n",
    "for f6 in vectorizer_project_subject_category.get_feature_names():\n",
    "    bow_features.append(f6)\n",
    "    \n",
    "for f7 in vectorizer_project_subject_subcategories.get_feature_names():\n",
    "    bow_features.append(f7)\n",
    "\n",
    "bow_features.append(\"price\")\n",
    "\n",
    "bow_features.append(\"title_word_count\")\n",
    "bow_features.append(\"essay_word_count\")\n",
    "bow_features.append(\"teacher_number_of_previously_posted_projects\")"
   ]
  },
  {
   "cell_type": "code",
   "execution_count": 87,
   "metadata": {},
   "outputs": [
    {
     "data": {
      "text/plain": [
       "8901"
      ]
     },
     "execution_count": 87,
     "metadata": {},
     "output_type": "execute_result"
    }
   ],
   "source": [
    "len(bow_features)"
   ]
  },
  {
   "cell_type": "code",
   "execution_count": 93,
   "metadata": {},
   "outputs": [
    {
     "name": "stdout",
     "output_type": "stream",
     "text": [
      "Top 20 features from positive class:\n",
      "['use' 'skills' 'materials' 'able' 'reading' 'day' 'love'\n",
      " 'teacher_number_of_previously_posted_projects' 'come' 'work' 'need'\n",
      " 'many' 'nannan' 'help' 'learn' 'not' 'classroom' 'learning' 'school'\n",
      " 'students']\n",
      "--------------------------------------------------\n",
      "['would' 'class' 'come' 'able' 'day' 'love'\n",
      " 'teacher_number_of_previously_posted_projects' 'use' 'reading' 'need'\n",
      " 'work' 'nannan' 'many' 'help' 'learn' 'not' 'classroom' 'learning'\n",
      " 'school' 'students']\n"
     ]
    }
   ],
   "source": [
    "#https://stackoverflow.com/questions/50526898/how-to-get-feature-importance-in-naive-bayes\n",
    "#top20 positive feature and negative fature\n",
    "\n",
    "print('Top 20 features from positive class:')\n",
    "neg_class_prob_sorted = naive_bayes_bow.feature_log_prob_[0, :].argsort()   #class 0\n",
    "pos_class_prob_sorted = naive_bayes_bow.feature_log_prob_[1, :].argsort()   #c\n",
    "print(np.take(bow_features, neg_class_prob_sorted[-20:]))\n",
    "print('-'*50)\n",
    "print(np.take(bow_features, pos_class_prob_sorted[-20:]))"
   ]
  },
  {
   "cell_type": "markdown",
   "metadata": {},
   "source": [
    "# calculate tfidf for feature project_title and essay"
   ]
  },
  {
   "cell_type": "code",
   "execution_count": 94,
   "metadata": {},
   "outputs": [
    {
     "name": "stdout",
     "output_type": "stream",
     "text": [
      "(49041, 13) (49041,)\n",
      "(24155, 13) (24155,)\n",
      "(36052, 13) (36052,)\n",
      "====================================================================================================\n",
      "After vectorizations\n",
      "(49041, 41126) (49041,)\n",
      "(24155, 41126) (24155,)\n",
      "(36052, 41126) (36052,)\n",
      "====================================================================================================\n"
     ]
    }
   ],
   "source": [
    "#https://scikit-learn.org/stable/modules/generated/sklearn.feature_extraction.text.TfidfVectorizer.html\n",
    "print(X_train.shape, y_train.shape)\n",
    "print(X_cv.shape, y_cv.shape)\n",
    "print(X_test.shape, y_test.shape)\n",
    "\n",
    "print(\"=\"*100)\n",
    "\n",
    "\n",
    "vectorizer_essay_tfidf = TfidfVectorizer()\n",
    "vectorizer_essay_tfidf.fit(X_train['preprocessed_essays'].values) # fit has to happen only on train data\n",
    "\n",
    "# we use the fitted CountVectorizer to convert the text to vector\n",
    "X_train_essay_tfidf = vectorizer_essay_tfidf.transform(X_train['preprocessed_essays'].values)\n",
    "X_cv_essay_tfidf = vectorizer_essay_tfidf.transform(X_cv['preprocessed_essays'].values)\n",
    "X_test_essay_tfidf =vectorizer_essay_tfidf.transform(X_test['preprocessed_essays'].values)\n",
    "\n",
    "print(\"After vectorizations\")\n",
    "print(X_train_essay_tfidf.shape, y_train.shape)\n",
    "print(X_cv_essay_tfidf.shape, y_cv.shape)\n",
    "print(X_test_essay_tfidf.shape, y_test.shape)\n",
    "\n",
    "print(\"=\"*100)"
   ]
  },
  {
   "cell_type": "code",
   "execution_count": 95,
   "metadata": {},
   "outputs": [
    {
     "name": "stdout",
     "output_type": "stream",
     "text": [
      "(49041, 13) (49041,)\n",
      "(24155, 13) (24155,)\n",
      "(36052, 13) (36052,)\n",
      "====================================================================================================\n",
      "After vectorizations\n",
      "(49041, 11537) (49041,)\n",
      "(24155, 11537) (24155,)\n",
      "(36052, 11537) (36052,)\n",
      "====================================================================================================\n"
     ]
    }
   ],
   "source": [
    "#https://scikit-learn.org/stable/modules/generated/sklearn.feature_extraction.text.TfidfVectorizer.html\n",
    "print(X_train.shape, y_train.shape)\n",
    "print(X_cv.shape, y_cv.shape)\n",
    "print(X_test.shape, y_test.shape)\n",
    "\n",
    "print(\"=\"*100)\n",
    "\n",
    "vectorizer_project_title_tfidf = TfidfVectorizer()\n",
    "vectorizer_project_title_tfidf.fit(X_train['preprocessed_titles'].values) # fit has to happen only on train data\n",
    "\n",
    "# we use the fitted CountVectorizer to convert the text to vector\n",
    "X_train_project_title_tfidf = vectorizer_project_title_tfidf.transform(X_train['preprocessed_titles'].values)\n",
    "X_cv_project_title_tfidf = vectorizer_project_title_tfidf.transform(X_cv['preprocessed_titles'].values)\n",
    "X_test_project_title_tfidf =vectorizer_project_title_tfidf.transform(X_test['preprocessed_titles'].values)\n",
    "\n",
    "print(\"After vectorizations\")\n",
    "print(X_train_project_title_tfidf.shape, y_train.shape)\n",
    "print(X_cv_project_title_tfidf.shape, y_cv.shape)\n",
    "print(X_test_project_title_tfidf.shape, y_test.shape)\n",
    "\n",
    "print(\"=\"*100)"
   ]
  },
  {
   "cell_type": "markdown",
   "metadata": {},
   "source": [
    "# Concatinating all the features"
   ]
  },
  {
   "cell_type": "code",
   "execution_count": 96,
   "metadata": {},
   "outputs": [
    {
     "name": "stdout",
     "output_type": "stream",
     "text": [
      "Final Data matrix\n",
      "(49041, 53154) (49041,)\n",
      "(24155, 53154) (24155,)\n",
      "(36052, 53154) (36052,)\n",
      "====================================================================================================\n"
     ]
    }
   ],
   "source": [
    "# merge two sparse matrices: https://stackoverflow.com/a/19710648/4084039\n",
    "from scipy.sparse import hstack\n",
    "X_tr_2 = hstack((X_train_essay_tfidf,X_train_project_title_tfidf,X_train_state_ohe,X_train_teacher_ohe,X_train_grade_ohe,X_train_subject_ohe,X_train_sub_subject_ohe,X_train_price_norm,X_train_title_word_count_norm,X_train_essay_word_count_norm,X_train_project_submit_count_norm)).tocsr()\n",
    "X_cr_2 = hstack((X_cv_essay_tfidf,X_cv_project_title_tfidf,X_cv_state_ohe,X_cv_teacher_ohe,X_cv_grade_ohe,X_cv_subject_ohe,X_cv_sub_subject_ohe,X_cv_price_norm,X_cv_title_word_count_norm,X_cv_essay_word_count_norm,X_cv_project_submit_count_norm)).tocsr()\n",
    "X_te_2 = hstack((X_test_essay_tfidf,X_test_project_title_tfidf,X_test_state_ohe,X_test_teacher_ohe,X_test_grade_ohe,X_test_subject_ohe,X_test_sub_subject_ohe,X_test_price_norm,X_test_title_word_count_norm,X_test_essay_word_count_norm,X_test_project_submit_count_norm)).tocsr()\n",
    "\n",
    "print(\"Final Data matrix\")\n",
    "print(X_tr_2.shape, y_train.shape)\n",
    "print(X_cr_2.shape, y_cv.shape)\n",
    "print(X_te_2.shape, y_test.shape)\n",
    "print(\"=\"*100)"
   ]
  },
  {
   "cell_type": "code",
   "execution_count": 97,
   "metadata": {},
   "outputs": [],
   "source": [
    "def batch_predict(clf, data):\n",
    "    # roc_auc_score(y_true, y_score) the 2nd parameter should be probability estimates of the positive class\n",
    "    # not the predicted outputs\n",
    "\n",
    "    y_data_pred = []\n",
    "    tr_loop = data.shape[0] - data.shape[0]%1000\n",
    "    # consider you X_tr shape is 49041, then your tr_loop will be 49041 - 49041%1000 = 49000\n",
    "    # in this for loop we will iterate unti the last 1000 multiplier\n",
    "    for i in range(0, tr_loop, 1000):\n",
    "        y_data_pred.extend(clf.predict_proba(data[i:i+1000])[:,1])\n",
    "    # we will be predicting for the last data points\n",
    "    if data.shape[0]%1000 !=0:\n",
    "        y_data_pred.extend(clf.predict_proba(data[tr_loop:])[:,1])\n",
    "    \n",
    "    return y_data_pred"
   ]
  },
  {
   "cell_type": "code",
   "execution_count": 98,
   "metadata": {},
   "outputs": [
    {
     "name": "stderr",
     "output_type": "stream",
     "text": [
      "\r",
      "  0%|          | 0/14 [00:00<?, ?it/s]"
     ]
    },
    {
     "name": "stdout",
     "output_type": "stream",
     "text": [
      "for alpha = 1e-05\n"
     ]
    },
    {
     "name": "stderr",
     "output_type": "stream",
     "text": [
      "\r",
      "  7%|▋         | 1/14 [00:00<00:05,  2.28it/s]"
     ]
    },
    {
     "name": "stdout",
     "output_type": "stream",
     "text": [
      "for alpha = 0.0005\n"
     ]
    },
    {
     "name": "stderr",
     "output_type": "stream",
     "text": [
      "\r",
      " 14%|█▍        | 2/14 [00:00<00:04,  2.40it/s]"
     ]
    },
    {
     "name": "stdout",
     "output_type": "stream",
     "text": [
      "for alpha = 0.0001\n"
     ]
    },
    {
     "name": "stderr",
     "output_type": "stream",
     "text": [
      "\r",
      " 21%|██▏       | 3/14 [00:01<00:04,  2.34it/s]"
     ]
    },
    {
     "name": "stdout",
     "output_type": "stream",
     "text": [
      "for alpha = 0.005\n"
     ]
    },
    {
     "name": "stderr",
     "output_type": "stream",
     "text": [
      "\r",
      " 29%|██▊       | 4/14 [00:01<00:04,  2.50it/s]"
     ]
    },
    {
     "name": "stdout",
     "output_type": "stream",
     "text": [
      "for alpha = 0.001\n"
     ]
    },
    {
     "name": "stderr",
     "output_type": "stream",
     "text": [
      "\r",
      " 36%|███▌      | 5/14 [00:01<00:03,  2.60it/s]"
     ]
    },
    {
     "name": "stdout",
     "output_type": "stream",
     "text": [
      "for alpha = 0.05\n"
     ]
    },
    {
     "name": "stderr",
     "output_type": "stream",
     "text": [
      "\r",
      " 43%|████▎     | 6/14 [00:02<00:02,  2.72it/s]"
     ]
    },
    {
     "name": "stdout",
     "output_type": "stream",
     "text": [
      "for alpha = 0.01\n"
     ]
    },
    {
     "name": "stderr",
     "output_type": "stream",
     "text": [
      "\r",
      " 50%|█████     | 7/14 [00:02<00:02,  2.82it/s]"
     ]
    },
    {
     "name": "stdout",
     "output_type": "stream",
     "text": [
      "for alpha = 0.1\n"
     ]
    },
    {
     "name": "stderr",
     "output_type": "stream",
     "text": [
      "\r",
      " 57%|█████▋    | 8/14 [00:02<00:02,  2.76it/s]"
     ]
    },
    {
     "name": "stdout",
     "output_type": "stream",
     "text": [
      "for alpha = 0.5\n"
     ]
    },
    {
     "name": "stderr",
     "output_type": "stream",
     "text": [
      "\r",
      " 64%|██████▍   | 9/14 [00:03<00:01,  2.85it/s]"
     ]
    },
    {
     "name": "stdout",
     "output_type": "stream",
     "text": [
      "for alpha = 1\n"
     ]
    },
    {
     "name": "stderr",
     "output_type": "stream",
     "text": [
      "\r",
      " 71%|███████▏  | 10/14 [00:03<00:01,  2.92it/s]"
     ]
    },
    {
     "name": "stdout",
     "output_type": "stream",
     "text": [
      "for alpha = 5\n"
     ]
    },
    {
     "name": "stderr",
     "output_type": "stream",
     "text": [
      "\r",
      " 79%|███████▊  | 11/14 [00:03<00:01,  2.93it/s]"
     ]
    },
    {
     "name": "stdout",
     "output_type": "stream",
     "text": [
      "for alpha = 10\n"
     ]
    },
    {
     "name": "stderr",
     "output_type": "stream",
     "text": [
      "\r",
      " 86%|████████▌ | 12/14 [00:04<00:00,  2.87it/s]"
     ]
    },
    {
     "name": "stdout",
     "output_type": "stream",
     "text": [
      "for alpha = 50\n"
     ]
    },
    {
     "name": "stderr",
     "output_type": "stream",
     "text": [
      "\r",
      " 93%|█████████▎| 13/14 [00:04<00:00,  2.91it/s]"
     ]
    },
    {
     "name": "stdout",
     "output_type": "stream",
     "text": [
      "for alpha = 100\n"
     ]
    },
    {
     "name": "stderr",
     "output_type": "stream",
     "text": [
      "100%|██████████| 14/14 [00:04<00:00,  2.81it/s]\n",
      "100%|██████████| 14/14 [00:00<00:00, 13270.11it/s]\n"
     ]
    },
    {
     "data": {
      "image/png": "[encoded data removed]",
      "text/plain": [
       "<Figure size 432x288 with 1 Axes>"
      ]
     },
     "metadata": {},
     "output_type": "display_data"
    }
   ],
   "source": [
    "import matplotlib.pyplot as plt\n",
    "from sklearn.naive_bayes import MultinomialNB\n",
    "from sklearn.metrics import roc_auc_score\n",
    "\"\"\"\n",
    "y_true : array, shape = [n_samples] or [n_samples, n_classes]\n",
    "True binary labels or binary label indicators.\n",
    "\n",
    "y_score : array, shape = [n_samples] or [n_samples, n_classes]\n",
    "Target scores, can either be probability estimates of the positive class, confidence values, or non-thresholded measure of\n",
    "decisions (as returned by “decision_function” on some classifiers). \n",
    "For binary y_true, y_score is supposed to be the score of the class with greater label.\n",
    "\n",
    "\"\"\"\n",
    "\n",
    "train_auc = []\n",
    "cv_auc = []\n",
    "log_alpha=[]\n",
    "#alpha value taken from course case study \n",
    "alpha = [0.00001,0.0005, 0.0001,0.005,0.001,0.05,0.01,0.1,0.5,1,5,10,50,100]\n",
    "for i in tqdm(alpha):\n",
    "    print(\"for alpha =\", i)\n",
    "    naive_bayes_tfidf = MultinomialNB(alpha=i,class_prior = [0.5, 0.5])\n",
    "    naive_bayes_tfidf.fit(X_tr_2, y_train)\n",
    "\n",
    "    y_train_pred = batch_predict( naive_bayes_tfidf, X_tr_2)    \n",
    "    y_cv_pred = batch_predict( naive_bayes_tfidf, X_cr_2)\n",
    "\n",
    "    # roc_auc_score(y_true, y_score) the 2nd parameter should be probability estimates of the positive class\n",
    "    # not the predicted outputs        \n",
    "    train_auc.append(roc_auc_score(y_train,y_train_pred))\n",
    "    cv_auc.append(roc_auc_score(y_cv, y_cv_pred))\n",
    "\n",
    "for j in tqdm(alpha):\n",
    "    k=math.log(j)\n",
    "    log_alpha.append(k)\n",
    "\n",
    "plt.plot(log_alpha, train_auc, label='Train AUC')\n",
    "plt.plot(log_alpha, cv_auc, label='CV AUC')\n",
    "\n",
    "plt.scatter(log_alpha, train_auc, label='Train AUC points')\n",
    "plt.scatter(log_alpha, cv_auc, label='CV AUC points')\n",
    "\n",
    "plt.legend()\n",
    "plt.xlabel(\"alpha: hyperparameter\")\n",
    "plt.ylabel(\"AUC\")\n",
    "plt.title(\"ERROR PLOTS\")\n",
    "plt.grid()\n",
    "plt.show()"
   ]
  },
  {
   "cell_type": "markdown",
   "metadata": {},
   "source": [
    "# Gridsearch for tfidf vector\n"
   ]
  },
  {
   "cell_type": "code",
   "execution_count": 99,
   "metadata": {},
   "outputs": [
    {
     "name": "stdout",
     "output_type": "stream",
     "text": [
      "Fitting 10 folds for each of 14 candidates, totalling 140 fits\n",
      "[CV] alpha=1e-05 .....................................................\n"
     ]
    },
    {
     "name": "stderr",
     "output_type": "stream",
     "text": [
      "[Parallel(n_jobs=1)]: Using backend SequentialBackend with 1 concurrent workers.\n"
     ]
    },
    {
     "name": "stdout",
     "output_type": "stream",
     "text": [
      "[CV] ...................................... alpha=1e-05, total=   0.1s\n",
      "[CV] alpha=1e-05 .....................................................\n"
     ]
    },
    {
     "name": "stderr",
     "output_type": "stream",
     "text": [
      "[Parallel(n_jobs=1)]: Done   1 out of   1 | elapsed:    0.3s remaining:    0.0s\n"
     ]
    },
    {
     "name": "stdout",
     "output_type": "stream",
     "text": [
      "[CV] ...................................... alpha=1e-05, total=   0.1s\n",
      "[CV] alpha=1e-05 .....................................................\n",
      "[CV] ...................................... alpha=1e-05, total=   0.1s\n",
      "[CV] alpha=1e-05 .....................................................\n",
      "[CV] ...................................... alpha=1e-05, total=   0.2s\n",
      "[CV] alpha=1e-05 .....................................................\n",
      "[CV] ...................................... alpha=1e-05, total=   0.1s\n",
      "[CV] alpha=1e-05 .....................................................\n",
      "[CV] ...................................... alpha=1e-05, total=   0.1s\n",
      "[CV] alpha=1e-05 .....................................................\n",
      "[CV] ...................................... alpha=1e-05, total=   0.1s\n",
      "[CV] alpha=1e-05 .....................................................\n",
      "[CV] ...................................... alpha=1e-05, total=   0.1s\n",
      "[CV] alpha=1e-05 .....................................................\n",
      "[CV] ...................................... alpha=1e-05, total=   0.1s\n",
      "[CV] alpha=1e-05 .....................................................\n",
      "[CV] ...................................... alpha=1e-05, total=   0.1s\n",
      "[CV] alpha=0.0005 ....................................................\n",
      "[CV] ..................................... alpha=0.0005, total=   0.1s\n",
      "[CV] alpha=0.0005 ....................................................\n",
      "[CV] ..................................... alpha=0.0005, total=   0.1s\n",
      "[CV] alpha=0.0005 ....................................................\n",
      "[CV] ..................................... alpha=0.0005, total=   0.1s\n",
      "[CV] alpha=0.0005 ....................................................\n",
      "[CV] ..................................... alpha=0.0005, total=   0.1s\n",
      "[CV] alpha=0.0005 ....................................................\n",
      "[CV] ..................................... alpha=0.0005, total=   0.1s\n",
      "[CV] alpha=0.0005 ....................................................\n",
      "[CV] ..................................... alpha=0.0005, total=   0.1s\n",
      "[CV] alpha=0.0005 ....................................................\n",
      "[CV] ..................................... alpha=0.0005, total=   0.1s\n",
      "[CV] alpha=0.0005 ....................................................\n",
      "[CV] ..................................... alpha=0.0005, total=   0.1s\n",
      "[CV] alpha=0.0005 ....................................................\n",
      "[CV] ..................................... alpha=0.0005, total=   0.1s\n",
      "[CV] alpha=0.0005 ....................................................\n",
      "[CV] ..................................... alpha=0.0005, total=   0.1s\n",
      "[CV] alpha=0.0001 ....................................................\n",
      "[CV] ..................................... alpha=0.0001, total=   0.1s\n",
      "[CV] alpha=0.0001 ....................................................\n",
      "[CV] ..................................... alpha=0.0001, total=   0.1s\n",
      "[CV] alpha=0.0001 ....................................................\n",
      "[CV] ..................................... alpha=0.0001, total=   0.1s\n",
      "[CV] alpha=0.0001 ....................................................\n",
      "[CV] ..................................... alpha=0.0001, total=   0.1s\n",
      "[CV] alpha=0.0001 ....................................................\n",
      "[CV] ..................................... alpha=0.0001, total=   0.1s\n",
      "[CV] alpha=0.0001 ....................................................\n",
      "[CV] ..................................... alpha=0.0001, total=   0.1s\n",
      "[CV] alpha=0.0001 ....................................................\n",
      "[CV] ..................................... alpha=0.0001, total=   0.1s\n",
      "[CV] alpha=0.0001 ....................................................\n",
      "[CV] ..................................... alpha=0.0001, total=   0.1s\n",
      "[CV] alpha=0.0001 ....................................................\n",
      "[CV] ..................................... alpha=0.0001, total=   0.1s\n",
      "[CV] alpha=0.0001 ....................................................\n",
      "[CV] ..................................... alpha=0.0001, total=   0.1s\n",
      "[CV] alpha=0.005 .....................................................\n",
      "[CV] ...................................... alpha=0.005, total=   0.1s\n",
      "[CV] alpha=0.005 .....................................................\n",
      "[CV] ...................................... alpha=0.005, total=   0.1s\n",
      "[CV] alpha=0.005 .....................................................\n",
      "[CV] ...................................... alpha=0.005, total=   0.1s\n",
      "[CV] alpha=0.005 .....................................................\n",
      "[CV] ...................................... alpha=0.005, total=   0.1s\n",
      "[CV] alpha=0.005 .....................................................\n",
      "[CV] ...................................... alpha=0.005, total=   0.1s\n",
      "[CV] alpha=0.005 .....................................................\n",
      "[CV] ...................................... alpha=0.005, total=   0.1s\n",
      "[CV] alpha=0.005 .....................................................\n",
      "[CV] ...................................... alpha=0.005, total=   0.1s\n",
      "[CV] alpha=0.005 .....................................................\n",
      "[CV] ...................................... alpha=0.005, total=   0.1s\n",
      "[CV] alpha=0.005 .....................................................\n",
      "[CV] ...................................... alpha=0.005, total=   0.1s\n",
      "[CV] alpha=0.005 .....................................................\n",
      "[CV] ...................................... alpha=0.005, total=   0.1s\n",
      "[CV] alpha=0.001 .....................................................\n",
      "[CV] ...................................... alpha=0.001, total=   0.1s\n",
      "[CV] alpha=0.001 .....................................................\n",
      "[CV] ...................................... alpha=0.001, total=   0.1s\n",
      "[CV] alpha=0.001 .....................................................\n",
      "[CV] ...................................... alpha=0.001, total=   0.1s\n",
      "[CV] alpha=0.001 .....................................................\n",
      "[CV] ...................................... alpha=0.001, total=   0.1s\n",
      "[CV] alpha=0.001 .....................................................\n",
      "[CV] ...................................... alpha=0.001, total=   0.1s\n",
      "[CV] alpha=0.001 .....................................................\n",
      "[CV] ...................................... alpha=0.001, total=   0.1s\n",
      "[CV] alpha=0.001 .....................................................\n",
      "[CV] ...................................... alpha=0.001, total=   0.1s\n",
      "[CV] alpha=0.001 .....................................................\n",
      "[CV] ...................................... alpha=0.001, total=   0.1s\n",
      "[CV] alpha=0.001 .....................................................\n",
      "[CV] ...................................... alpha=0.001, total=   0.1s\n",
      "[CV] alpha=0.001 .....................................................\n",
      "[CV] ...................................... alpha=0.001, total=   0.1s\n",
      "[CV] alpha=0.05 ......................................................\n",
      "[CV] ....................................... alpha=0.05, total=   0.1s\n",
      "[CV] alpha=0.05 ......................................................\n",
      "[CV] ....................................... alpha=0.05, total=   0.1s\n",
      "[CV] alpha=0.05 ......................................................\n",
      "[CV] ....................................... alpha=0.05, total=   0.1s\n",
      "[CV] alpha=0.05 ......................................................\n",
      "[CV] ....................................... alpha=0.05, total=   0.1s\n",
      "[CV] alpha=0.05 ......................................................\n",
      "[CV] ....................................... alpha=0.05, total=   0.1s\n",
      "[CV] alpha=0.05 ......................................................\n",
      "[CV] ....................................... alpha=0.05, total=   0.1s\n",
      "[CV] alpha=0.05 ......................................................\n",
      "[CV] ....................................... alpha=0.05, total=   0.1s\n",
      "[CV] alpha=0.05 ......................................................\n",
      "[CV] ....................................... alpha=0.05, total=   0.1s\n",
      "[CV] alpha=0.05 ......................................................\n",
      "[CV] ....................................... alpha=0.05, total=   0.1s\n",
      "[CV] alpha=0.05 ......................................................\n"
     ]
    },
    {
     "name": "stdout",
     "output_type": "stream",
     "text": [
      "[CV] ....................................... alpha=0.05, total=   0.1s\n",
      "[CV] alpha=0.01 ......................................................\n",
      "[CV] ....................................... alpha=0.01, total=   0.1s\n",
      "[CV] alpha=0.01 ......................................................\n",
      "[CV] ....................................... alpha=0.01, total=   0.1s\n",
      "[CV] alpha=0.01 ......................................................\n",
      "[CV] ....................................... alpha=0.01, total=   0.1s\n",
      "[CV] alpha=0.01 ......................................................\n",
      "[CV] ....................................... alpha=0.01, total=   0.1s\n",
      "[CV] alpha=0.01 ......................................................\n",
      "[CV] ....................................... alpha=0.01, total=   0.1s\n",
      "[CV] alpha=0.01 ......................................................\n",
      "[CV] ....................................... alpha=0.01, total=   0.1s\n",
      "[CV] alpha=0.01 ......................................................\n",
      "[CV] ....................................... alpha=0.01, total=   0.1s\n",
      "[CV] alpha=0.01 ......................................................\n",
      "[CV] ....................................... alpha=0.01, total=   0.1s\n",
      "[CV] alpha=0.01 ......................................................\n",
      "[CV] ....................................... alpha=0.01, total=   0.1s\n",
      "[CV] alpha=0.01 ......................................................\n",
      "[CV] ....................................... alpha=0.01, total=   0.1s\n",
      "[CV] alpha=0.1 .......................................................\n",
      "[CV] ........................................ alpha=0.1, total=   0.1s\n",
      "[CV] alpha=0.1 .......................................................\n",
      "[CV] ........................................ alpha=0.1, total=   0.1s\n",
      "[CV] alpha=0.1 .......................................................\n",
      "[CV] ........................................ alpha=0.1, total=   0.1s\n",
      "[CV] alpha=0.1 .......................................................\n",
      "[CV] ........................................ alpha=0.1, total=   0.2s\n",
      "[CV] alpha=0.1 .......................................................\n",
      "[CV] ........................................ alpha=0.1, total=   0.2s\n",
      "[CV] alpha=0.1 .......................................................\n",
      "[CV] ........................................ alpha=0.1, total=   0.1s\n",
      "[CV] alpha=0.1 .......................................................\n",
      "[CV] ........................................ alpha=0.1, total=   0.1s\n",
      "[CV] alpha=0.1 .......................................................\n",
      "[CV] ........................................ alpha=0.1, total=   0.1s\n",
      "[CV] alpha=0.1 .......................................................\n",
      "[CV] ........................................ alpha=0.1, total=   0.1s\n",
      "[CV] alpha=0.1 .......................................................\n",
      "[CV] ........................................ alpha=0.1, total=   0.1s\n",
      "[CV] alpha=0.5 .......................................................\n",
      "[CV] ........................................ alpha=0.5, total=   0.1s\n",
      "[CV] alpha=0.5 .......................................................\n",
      "[CV] ........................................ alpha=0.5, total=   0.1s\n",
      "[CV] alpha=0.5 .......................................................\n",
      "[CV] ........................................ alpha=0.5, total=   0.1s\n",
      "[CV] alpha=0.5 .......................................................\n",
      "[CV] ........................................ alpha=0.5, total=   0.1s\n",
      "[CV] alpha=0.5 .......................................................\n",
      "[CV] ........................................ alpha=0.5, total=   0.1s\n",
      "[CV] alpha=0.5 .......................................................\n",
      "[CV] ........................................ alpha=0.5, total=   0.1s\n",
      "[CV] alpha=0.5 .......................................................\n",
      "[CV] ........................................ alpha=0.5, total=   0.1s\n",
      "[CV] alpha=0.5 .......................................................\n",
      "[CV] ........................................ alpha=0.5, total=   0.1s\n",
      "[CV] alpha=0.5 .......................................................\n",
      "[CV] ........................................ alpha=0.5, total=   0.1s\n",
      "[CV] alpha=0.5 .......................................................\n",
      "[CV] ........................................ alpha=0.5, total=   0.1s\n",
      "[CV] alpha=1 .........................................................\n",
      "[CV] .......................................... alpha=1, total=   0.1s\n",
      "[CV] alpha=1 .........................................................\n",
      "[CV] .......................................... alpha=1, total=   0.1s\n",
      "[CV] alpha=1 .........................................................\n",
      "[CV] .......................................... alpha=1, total=   0.1s\n",
      "[CV] alpha=1 .........................................................\n",
      "[CV] .......................................... alpha=1, total=   0.1s\n",
      "[CV] alpha=1 .........................................................\n",
      "[CV] .......................................... alpha=1, total=   0.1s\n",
      "[CV] alpha=1 .........................................................\n",
      "[CV] .......................................... alpha=1, total=   0.1s\n",
      "[CV] alpha=1 .........................................................\n",
      "[CV] .......................................... alpha=1, total=   0.1s\n",
      "[CV] alpha=1 .........................................................\n",
      "[CV] .......................................... alpha=1, total=   0.2s\n",
      "[CV] alpha=1 .........................................................\n",
      "[CV] .......................................... alpha=1, total=   0.1s\n",
      "[CV] alpha=1 .........................................................\n",
      "[CV] .......................................... alpha=1, total=   0.1s\n",
      "[CV] alpha=5 .........................................................\n",
      "[CV] .......................................... alpha=5, total=   0.1s\n",
      "[CV] alpha=5 .........................................................\n",
      "[CV] .......................................... alpha=5, total=   0.1s\n",
      "[CV] alpha=5 .........................................................\n",
      "[CV] .......................................... alpha=5, total=   0.1s\n",
      "[CV] alpha=5 .........................................................\n",
      "[CV] .......................................... alpha=5, total=   0.1s\n",
      "[CV] alpha=5 .........................................................\n",
      "[CV] .......................................... alpha=5, total=   0.1s\n",
      "[CV] alpha=5 .........................................................\n",
      "[CV] .......................................... alpha=5, total=   0.1s\n",
      "[CV] alpha=5 .........................................................\n",
      "[CV] .......................................... alpha=5, total=   0.1s\n",
      "[CV] alpha=5 .........................................................\n",
      "[CV] .......................................... alpha=5, total=   0.1s\n",
      "[CV] alpha=5 .........................................................\n",
      "[CV] .......................................... alpha=5, total=   0.1s\n",
      "[CV] alpha=5 .........................................................\n",
      "[CV] .......................................... alpha=5, total=   0.1s\n",
      "[CV] alpha=10 ........................................................\n",
      "[CV] ......................................... alpha=10, total=   0.1s\n",
      "[CV] alpha=10 ........................................................\n",
      "[CV] ......................................... alpha=10, total=   0.1s\n",
      "[CV] alpha=10 ........................................................\n",
      "[CV] ......................................... alpha=10, total=   0.1s\n",
      "[CV] alpha=10 ........................................................\n",
      "[CV] ......................................... alpha=10, total=   0.1s\n",
      "[CV] alpha=10 ........................................................\n",
      "[CV] ......................................... alpha=10, total=   0.1s\n",
      "[CV] alpha=10 ........................................................\n",
      "[CV] ......................................... alpha=10, total=   0.1s\n",
      "[CV] alpha=10 ........................................................\n",
      "[CV] ......................................... alpha=10, total=   0.1s\n",
      "[CV] alpha=10 ........................................................\n"
     ]
    },
    {
     "name": "stdout",
     "output_type": "stream",
     "text": [
      "[CV] ......................................... alpha=10, total=   0.1s\n",
      "[CV] alpha=10 ........................................................\n",
      "[CV] ......................................... alpha=10, total=   0.1s\n",
      "[CV] alpha=10 ........................................................\n",
      "[CV] ......................................... alpha=10, total=   0.1s\n",
      "[CV] alpha=50 ........................................................\n",
      "[CV] ......................................... alpha=50, total=   0.1s\n",
      "[CV] alpha=50 ........................................................\n",
      "[CV] ......................................... alpha=50, total=   0.1s\n",
      "[CV] alpha=50 ........................................................\n",
      "[CV] ......................................... alpha=50, total=   0.1s\n",
      "[CV] alpha=50 ........................................................\n",
      "[CV] ......................................... alpha=50, total=   0.1s\n",
      "[CV] alpha=50 ........................................................\n",
      "[CV] ......................................... alpha=50, total=   0.1s\n",
      "[CV] alpha=50 ........................................................\n",
      "[CV] ......................................... alpha=50, total=   0.1s\n",
      "[CV] alpha=50 ........................................................\n",
      "[CV] ......................................... alpha=50, total=   0.1s\n",
      "[CV] alpha=50 ........................................................\n",
      "[CV] ......................................... alpha=50, total=   0.1s\n",
      "[CV] alpha=50 ........................................................\n",
      "[CV] ......................................... alpha=50, total=   0.1s\n",
      "[CV] alpha=50 ........................................................\n",
      "[CV] ......................................... alpha=50, total=   0.1s\n",
      "[CV] alpha=100 .......................................................\n",
      "[CV] ........................................ alpha=100, total=   0.1s\n",
      "[CV] alpha=100 .......................................................\n",
      "[CV] ........................................ alpha=100, total=   0.1s\n",
      "[CV] alpha=100 .......................................................\n",
      "[CV] ........................................ alpha=100, total=   0.1s\n",
      "[CV] alpha=100 .......................................................\n",
      "[CV] ........................................ alpha=100, total=   0.1s\n",
      "[CV] alpha=100 .......................................................\n",
      "[CV] ........................................ alpha=100, total=   0.1s\n",
      "[CV] alpha=100 .......................................................\n",
      "[CV] ........................................ alpha=100, total=   0.1s\n",
      "[CV] alpha=100 .......................................................\n",
      "[CV] ........................................ alpha=100, total=   0.1s\n",
      "[CV] alpha=100 .......................................................\n",
      "[CV] ........................................ alpha=100, total=   0.1s\n",
      "[CV] alpha=100 .......................................................\n",
      "[CV] ........................................ alpha=100, total=   0.1s\n",
      "[CV] alpha=100 .......................................................\n",
      "[CV] ........................................ alpha=100, total=   0.1s\n"
     ]
    },
    {
     "name": "stderr",
     "output_type": "stream",
     "text": [
      "[Parallel(n_jobs=1)]: Done 140 out of 140 | elapsed:   19.4s finished\n"
     ]
    },
    {
     "data": {
      "image/png": "[encoded data removed]",
      "text/plain": [
       "<Figure size 1440x720 with 1 Axes>"
      ]
     },
     "metadata": {},
     "output_type": "display_data"
    }
   ],
   "source": [
    "#https://scikit-learn.org/stable/modules/grid_search.html\n",
    "#Gridsearchcv \n",
    "from sklearn.model_selection import GridSearchCV\n",
    "naive_bayes = MultinomialNB(class_prior=[0.5,0.5])\n",
    "#alpha value taken from course case study problem\n",
    "parameters = {'alpha':[0.00001,0.0005, 0.0001,0.005,0.001,0.05,0.01,0.1,0.5,1,5,10,50,100]}\n",
    "\n",
    "clf = GridSearchCV(naive_bayes, parameters, cv= 10, scoring='roc_auc',return_train_score=True,verbose=2)\n",
    "\n",
    "clf.fit(X_tr_2, y_train)\n",
    "\n",
    "train_auc= clf.cv_results_['mean_train_score']\n",
    "train_auc_std= clf.cv_results_['std_train_score']\n",
    "cv_auc = clf.cv_results_['mean_test_score'] \n",
    "cv_auc_std= clf.cv_results_['std_test_score']\n",
    "alpha = [0.00001,0.0005, 0.0001,0.005,0.001,0.05,0.01,0.1,0.5,1,5,10,50,100]\n",
    "\n",
    "\n",
    "plt.figure(figsize=(20,10))\n",
    "\n",
    "plt.plot(alpha, train_auc, label='Train AUC')\n",
    "\n",
    "# this code is copied from here: https://stackoverflow.com/a/48803361/4084039\n",
    "# plt.gca().fill_between(K, train_auc - train_auc_std,train_auc + train_auc_std,alpha=0.2,color='darkblue')\n",
    "\n",
    "\n",
    "\n",
    "plt.plot(alpha, cv_auc, label='CV AUC')\n",
    "# this code is copied from here: https://stackoverflow.com/a/48803361/4084039\n",
    "#plt.gca().fill_between(alpha,cv_auc - cv_auc_std,cv_auc + cv_auc_std,alpha=0.3,color='darkorange')\n",
    "\n",
    "plt.scatter(alpha, train_auc, label='Train AUC points')\n",
    "plt.scatter(alpha, cv_auc, label='CV AUC points')\n",
    "\n",
    "\n",
    "plt.legend()\n",
    "plt.xlabel(\"alpha: hyperparameter\")\n",
    "plt.ylabel(\"AUC\")\n",
    "plt.title(\"alpha: hyperparameter v/s AUC\")\n",
    "plt.grid(color='black', linestyle='-', linewidth=0.5)\n",
    "plt.show()"
   ]
  },
  {
   "cell_type": "code",
   "execution_count": 100,
   "metadata": {},
   "outputs": [
    {
     "name": "stdout",
     "output_type": "stream",
     "text": [
      "Best score:  0.6474980865573342\n",
      "Best alpha value :  {'alpha': 0.1}\n"
     ]
    }
   ],
   "source": [
    "#Output of GridSearchCV\n",
    "print('Best score: ',clf.best_score_)\n",
    "print('Best alpha value : ',clf.best_params_)\n"
   ]
  },
  {
   "cell_type": "code",
   "execution_count": 101,
   "metadata": {},
   "outputs": [
    {
     "data": {
      "image/png": "[encoded data removed]",
      "text/plain": [
       "<Figure size 432x288 with 1 Axes>"
      ]
     },
     "metadata": {},
     "output_type": "display_data"
    }
   ],
   "source": [
    "best_alpha=0.1\n",
    "from sklearn.metrics import roc_curve, auc\n",
    "\n",
    "\n",
    "naive_bayes_tfidf = MultinomialNB(alpha=0.1,class_prior = [0.5, 0.5] )\n",
    "naive_bayes_tfidf.fit(X_tr_2, y_train)\n",
    "# roc_auc_score(y_true, y_score) the 2nd parameter should be probability estimates of the positive class\n",
    "# not the predicted outputs\n",
    "\n",
    "y_train_pred = batch_predict(naive_bayes_tfidf, X_tr_2)    \n",
    "y_test_pred = batch_predict(naive_bayes_tfidf, X_te_2)\n",
    "\n",
    "train_fpr, train_tpr, tr_thresholds = roc_curve(y_train, y_train_pred)\n",
    "test_fpr, test_tpr, te_thresholds = roc_curve(y_test, y_test_pred)\n",
    "\n",
    "plt.plot(train_fpr, train_tpr, label=\"train AUC =\"+str(auc(train_fpr, train_tpr)))\n",
    "plt.plot(test_fpr, test_tpr, label=\"test AUC =\"+str(auc(test_fpr, test_tpr)))\n",
    "plt.legend()\n",
    "plt.xlabel(\"alpha: hyperparameter\")\n",
    "plt.ylabel(\"AUC\")\n",
    "plt.title(\"ERROR PLOTS\")\n",
    "plt.grid()\n",
    "plt.show()"
   ]
  },
  {
   "cell_type": "code",
   "execution_count": 102,
   "metadata": {},
   "outputs": [
    {
     "name": "stdout",
     "output_type": "stream",
     "text": [
      "====================================================================================================\n",
      "the maximum value of tpr*(1-fpr) 0.6114695068639759 for threshold 0.525\n",
      "Train confusion matrix\n",
      "[[ 5650  1776]\n",
      " [ 8170 33445]]\n",
      "Test confusion matrix\n",
      "[[ 2517  2942]\n",
      " [ 7578 23015]]\n"
     ]
    }
   ],
   "source": [
    "# we are writing our own function for predict, with defined thresould\n",
    "# we will pick a threshold that will give the least fpr\n",
    "def find_best_threshold(threshould, fpr, tpr):\n",
    "    t = threshould[np.argmax(tpr*(1-fpr))]\n",
    "    # (tpr*(1-fpr)) will be maximum if your fpr is very low and tpr is very high\n",
    "    print(\"the maximum value of tpr*(1-fpr)\", max(tpr*(1-fpr)), \"for threshold\", np.round(t,3))\n",
    "    return t\n",
    "\n",
    "def predict_with_best_t(proba, threshould):\n",
    "    predictions = []\n",
    "    for i in proba:\n",
    "        if i>=threshould:\n",
    "            predictions.append(1)\n",
    "        else:\n",
    "            predictions.append(0)\n",
    "    return predictions\n",
    "print(\"=\"*100)\n",
    "from sklearn.metrics import confusion_matrix\n",
    "best_t = find_best_threshold(tr_thresholds, train_fpr, train_tpr)\n",
    "print(\"Train confusion matrix\")\n",
    "print(confusion_matrix(y_train, predict_with_best_t(y_train_pred, best_t)))\n",
    "print(\"Test confusion matrix\")\n",
    "print(confusion_matrix(y_test, predict_with_best_t(y_test_pred, best_t)))"
   ]
  },
  {
   "cell_type": "markdown",
   "metadata": {},
   "source": [
    "# calculate confusion matrix on set2 train data "
   ]
  },
  {
   "cell_type": "code",
   "execution_count": 104,
   "metadata": {},
   "outputs": [
    {
     "name": "stdout",
     "output_type": "stream",
     "text": [
      "Train data confusion matrix\n"
     ]
    },
    {
     "data": {
      "text/plain": [
       "<matplotlib.axes._subplots.AxesSubplot at 0x169ebe518>"
      ]
     },
     "execution_count": 104,
     "metadata": {},
     "output_type": "execute_result"
    },
    {
     "data": {
      "image/png": "[encoded data removed]",
      "text/plain": [
       "<Figure size 432x288 with 2 Axes>"
      ]
     },
     "metadata": {},
     "output_type": "display_data"
    }
   ],
   "source": [
    "#https://stackoverflow.com/questions/61748441/how-to-fix-the-values-displayed-in-a-confusion-matrix-in-exponential-form-to-nor\n",
    "#https://stackoverflow.com/questions/35572000/how-can-i-plot-a-confusion-matrix/35572520#35572520\n",
    "from sklearn.metrics import confusion_matrix\n",
    "import seaborn as sns\n",
    "import matplotlib.pyplot as plt  \n",
    "\n",
    "print(\"Train data confusion matrix\")\n",
    "\n",
    "confusion_matrix_train_data_set2 = pd.DataFrame(confusion_matrix(y_train, predict_with_best_t(y_train_pred, best_t)), range(2),range(2))\n",
    "sns.set(font_scale=1.4)#for label size\n",
    "sns.heatmap(confusion_matrix_train_data_set2, annot=True,annot_kws={\"size\": 20}, fmt='g')\n"
   ]
  },
  {
   "cell_type": "markdown",
   "metadata": {},
   "source": [
    "# calculate confusion matrix on set2 test data"
   ]
  },
  {
   "cell_type": "code",
   "execution_count": 105,
   "metadata": {},
   "outputs": [
    {
     "data": {
      "text/plain": [
       "<matplotlib.axes._subplots.AxesSubplot at 0x14b5960f0>"
      ]
     },
     "execution_count": 105,
     "metadata": {},
     "output_type": "execute_result"
    },
    {
     "data": {
      "image/png": "[encoded data removed]",
      "text/plain": [
       "<Figure size 432x288 with 2 Axes>"
      ]
     },
     "metadata": {},
     "output_type": "display_data"
    }
   ],
   "source": [
    "confusion_matrix_test_data_set2 = pd.DataFrame(confusion_matrix(y_test, predict_with_best_t(y_test_pred, best_t)), range(2),range(2))\n",
    "sns.set(font_scale=1.4)#for label size\n",
    "sns.heatmap(confusion_matrix_test_data_set2, annot=True,annot_kws={\"size\": 20}, fmt='g')\n"
   ]
  },
  {
   "cell_type": "code",
   "execution_count": 107,
   "metadata": {},
   "outputs": [],
   "source": [
    "#https://www.geeksforgeeks.org/python-ways-to-concatenate-two-lists/\n",
    "#https://scikit-learn.org/stable/modules/generated/sklearn.feature_extraction.text.TfidfVectorizer.html\n",
    "tfidf_features=[]\n",
    "for f1 in vectorizer_essay_tfidf.get_feature_names():\n",
    "    tfidf_features.append(f1)\n",
    "    \n",
    "for f2 in vectorizer_project_title_tfidf.get_feature_names():\n",
    "    tfidf_features.append(f2)\n",
    "\n",
    "for f3 in vectorizer_school_state.get_feature_names():\n",
    "    tfidf_features.append(f3)\n",
    "    \n",
    "for f4 in vectorizer_teacher_prefix.get_feature_names():\n",
    "    tfidf_features.append(f4)\n",
    "    \n",
    "for f5 in  vectorizer_project_grade_category.get_feature_names():\n",
    "    tfidf_features.append(f5)\n",
    "\n",
    "for f6 in vectorizer_project_subject_category.get_feature_names():\n",
    "    tfidf_features.append(f6)\n",
    "    \n",
    "for f7 in vectorizer_project_subject_subcategories.get_feature_names():\n",
    "    tfidf_features.append(f7)\n",
    "\n",
    "tfidf_features.append(\"price\")\n",
    "tfidf_features.append(\"quantity\")\n",
    "tfidf_features.append(\"title_word_count\")\n",
    "tfidf_features.append(\"essay_word_count\")\n",
    "tfidf_features.append(\"teacher_number_of_previously_posted_projects\")"
   ]
  },
  {
   "cell_type": "code",
   "execution_count": 108,
   "metadata": {},
   "outputs": [
    {
     "data": {
      "text/plain": [
       "53155"
      ]
     },
     "execution_count": 108,
     "metadata": {},
     "output_type": "execute_result"
    }
   ],
   "source": [
    "len(tfidf_features)"
   ]
  },
  {
   "cell_type": "code",
   "execution_count": 110,
   "metadata": {},
   "outputs": [
    {
     "name": "stdout",
     "output_type": "stream",
     "text": [
      "Top 20 Negative features from set2\n",
      "['litany' 'overdoses' 'overdeck' 'overcommitted' 'islanders' 'vigorous'\n",
      " 'overcast' 'overbearing' 'viii' 'overaged' 'overactivity' 'overactive'\n",
      " 'overachieving' 'overachievers' 'overachiever' 'overabundance' 'ovens'\n",
      " 'islands' 'ovary' 'oval']\n",
      "----------------------------------------------------------------------------------------------------\n",
      "Top 20 Positive features from set2\n",
      "['therapeutically' 'eyedroppers' 'eyesore' 'pics' 'blackfeet' 'wasco'\n",
      " 'picoult' 'jordanian' 'linus' 'jope' 'miguelito' 'faceing' 'facelift'\n",
      " 'wast' 'wasteland' 'snacs' 'eyebrow' 'snips' 'wasatch' 'extruder']\n"
     ]
    }
   ],
   "source": [
    "#find top20 feature using tfidf \n",
    "#https://stackoverflow.com/questions/50526898/how-to-get-feature-importance-in-naive-bayes\n",
    "\n",
    "neg_class_prob_sorted = naive_bayes_tfidf.feature_log_prob_[0, :].argsort()   #class 0\n",
    "pos_class_prob_sorted = naive_bayes_tfidf.feature_log_prob_[1, :].argsort()   #class1\n",
    "print(\"Top 20 Negative features from set2\")\n",
    "print(np.take(tfidf_features, neg_class_prob_sorted[:20]))\n",
    "print('-'*100)\n",
    "print(\"Top 20 Positive features from set2\")\n",
    "print(np.take(tfidf_features, pos_class_prob_sorted[:20]))"
   ]
  },
  {
   "cell_type": "code",
   "execution_count": 111,
   "metadata": {},
   "outputs": [
    {
     "name": "stdout",
     "output_type": "stream",
     "text": [
      "+------------+------------------------+-----------------------+----------+\n",
      "| Vectorizer |         Model          | Alpha:Hyper Parameter | Test-AUC |\n",
      "+------------+------------------------+-----------------------+----------+\n",
      "| BagOfWords | MultinomialNaive Bayes |          0.5          |   0.69   |\n",
      "|   TFIDF    | MultinomialNaive Bayes |          0.1          |   0.64   |\n",
      "+------------+------------------------+-----------------------+----------+\n"
     ]
    }
   ],
   "source": [
    "# Please compare all your models using Prettytable library\n",
    "# Please compare all your models using Prettytable library\n",
    "# http://zetcode.com/python/prettytable/\n",
    "\n",
    "from prettytable import PrettyTable\n",
    "\n",
    "#If you get a ModuleNotFoundError error , install prettytable using: pip3 install prettytable\n",
    "\n",
    "x = PrettyTable()\n",
    "x.field_names = [\"Vectorizer\", \"Model\", \"Alpha:Hyper Parameter\", \"Test-AUC\"]\n",
    "\n",
    "x.add_row([\"BagOfWords\", \"MultinomialNaive Bayes\", 0.5, 0.69])\n",
    "x.add_row([\"TFIDF\", \"MultinomialNaive Bayes\", 0.1, 0.64])\n",
    "\n",
    "print(x)"
   ]
  },
  {
   "cell_type": "markdown",
   "metadata": {},
   "source": [
    "Summary : After Unvariate amalyisis teachener number of project previously submitted ,we find that it will affect on project approved or not.so we include that feature in model.I used Gridsearch and compute best alpha paramter for both Bag of words and tfidf and got test accuracy score 0.68 and 0.64.Also find set 1 and set 2 top 20 features."
   ]
  },
  {
   "cell_type": "code",
   "execution_count": null,
   "metadata": {},
   "outputs": [],
   "source": []
  }
 ],
 "metadata": {
  "kernelspec": {
   "display_name": "Python 3",
   "language": "python",
   "name": "python3"
  },
  "language_info": {
   "codemirror_mode": {
    "name": "ipython",
    "version": 3
   },
   "file_extension": ".py",
   "mimetype": "text/x-python",
   "name": "python",
   "nbconvert_exporter": "python",
   "pygments_lexer": "ipython3",
   "version": "3.7.3"
  }
 },
 "nbformat": 4,
 "nbformat_minor": 2
}
